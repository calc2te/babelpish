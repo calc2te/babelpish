{
 "cells": [
  {
   "cell_type": "markdown",
   "metadata": {},
   "source": [
    "## Visualizing TensorFlow Graphs in Jupyter Notebooks  \n",
    "https://blog.jakuba.net/2017/05/30/tensorflow-visualization.html"
   ]
  },
  {
   "cell_type": "code",
   "execution_count": 1,
   "metadata": {
    "collapsed": true
   },
   "outputs": [],
   "source": [
    "import tensorflow as tf"
   ]
  },
  {
   "cell_type": "code",
   "execution_count": 2,
   "metadata": {
    "collapsed": false
   },
   "outputs": [
    {
     "name": "stdout",
     "output_type": "stream",
     "text": [
      "8\n"
     ]
    }
   ],
   "source": [
    "a = tf.add(3, 5)\n",
    "\n",
    "sess = tf.Session()\n",
    "print (sess.run(a))\n",
    "sess.close() "
   ]
  },
  {
   "cell_type": "code",
   "execution_count": 7,
   "metadata": {
    "collapsed": false
   },
   "outputs": [
    {
     "data": {
      "text/plain": [
       "['Add/x', 'Add/y', 'Add']"
      ]
     },
     "execution_count": 7,
     "metadata": {},
     "output_type": "execute_result"
    }
   ],
   "source": [
    "[node.name for node in tf.get_default_graph().as_graph_def().node]"
   ]
  },
  {
   "cell_type": "code",
   "execution_count": 8,
   "metadata": {
    "collapsed": false
   },
   "outputs": [
    {
     "data": {
      "text/plain": [
       "['Add/x', 'Add/y']"
      ]
     },
     "execution_count": 8,
     "metadata": {},
     "output_type": "execute_result"
    }
   ],
   "source": [
    "tf.get_default_graph().as_graph_def().node[2].input"
   ]
  },
  {
   "cell_type": "code",
   "execution_count": 4,
   "metadata": {
    "collapsed": false
   },
   "outputs": [],
   "source": [
    "from graphviz import Digraph"
   ]
  },
  {
   "cell_type": "markdown",
   "metadata": {},
   "source": [
    "> 없으면 pip install graphviz"
   ]
  },
  {
   "cell_type": "code",
   "execution_count": 13,
   "metadata": {
    "collapsed": false
   },
   "outputs": [
    {
     "name": "stdout",
     "output_type": "stream",
     "text": [
      "Add/x\n",
      "Add/y\n",
      "Add\n",
      "Add/x Add\n",
      "Add/y Add\n"
     ]
    },
    {
     "ename": "ExecutableNotFound",
     "evalue": "failed to execute ['dot', '-Tsvg'], make sure the Graphviz executables are on your systems' PATH",
     "output_type": "error",
     "traceback": [
      "\u001b[0;31m--------------------------------------------------\u001b[0m",
      "\u001b[0;31mFileNotFoundError\u001b[0mTraceback (most recent call last)",
      "\u001b[0;32m/Users/Seobs/miniconda3/lib/python3.5/site-packages/graphviz/backend.py\u001b[0m in \u001b[0;36mpipe\u001b[0;34m(engine, format, data, quiet)\u001b[0m\n\u001b[1;32m    152\u001b[0m             \u001b[0mstdout\u001b[0m\u001b[0;34m=\u001b[0m\u001b[0msubprocess\u001b[0m\u001b[0;34m.\u001b[0m\u001b[0mPIPE\u001b[0m\u001b[0;34m,\u001b[0m \u001b[0mstderr\u001b[0m\u001b[0;34m=\u001b[0m\u001b[0msubprocess\u001b[0m\u001b[0;34m.\u001b[0m\u001b[0mPIPE\u001b[0m\u001b[0;34m,\u001b[0m\u001b[0;34m\u001b[0m\u001b[0m\n\u001b[0;32m--> 153\u001b[0;31m             startupinfo=STARTUPINFO)\n\u001b[0m\u001b[1;32m    154\u001b[0m     \u001b[0;32mexcept\u001b[0m \u001b[0mOSError\u001b[0m \u001b[0;32mas\u001b[0m \u001b[0me\u001b[0m\u001b[0;34m:\u001b[0m\u001b[0;34m\u001b[0m\u001b[0m\n",
      "\u001b[0;32m/Users/Seobs/miniconda3/lib/python3.5/subprocess.py\u001b[0m in \u001b[0;36m__init__\u001b[0;34m(self, args, bufsize, executable, stdin, stdout, stderr, preexec_fn, close_fds, shell, cwd, env, universal_newlines, startupinfo, creationflags, restore_signals, start_new_session, pass_fds)\u001b[0m\n\u001b[1;32m    946\u001b[0m                                 \u001b[0merrread\u001b[0m\u001b[0;34m,\u001b[0m \u001b[0merrwrite\u001b[0m\u001b[0;34m,\u001b[0m\u001b[0;34m\u001b[0m\u001b[0m\n\u001b[0;32m--> 947\u001b[0;31m                                 restore_signals, start_new_session)\n\u001b[0m\u001b[1;32m    948\u001b[0m         \u001b[0;32mexcept\u001b[0m\u001b[0;34m:\u001b[0m\u001b[0;34m\u001b[0m\u001b[0m\n",
      "\u001b[0;32m/Users/Seobs/miniconda3/lib/python3.5/subprocess.py\u001b[0m in \u001b[0;36m_execute_child\u001b[0;34m(self, args, executable, preexec_fn, close_fds, pass_fds, cwd, env, startupinfo, creationflags, shell, p2cread, p2cwrite, c2pread, c2pwrite, errread, errwrite, restore_signals, start_new_session)\u001b[0m\n\u001b[1;32m   1550\u001b[0m                                 \u001b[0merr_msg\u001b[0m \u001b[0;34m+=\u001b[0m \u001b[0;34m': '\u001b[0m \u001b[0;34m+\u001b[0m \u001b[0mrepr\u001b[0m\u001b[0;34m(\u001b[0m\u001b[0morig_executable\u001b[0m\u001b[0;34m)\u001b[0m\u001b[0;34m\u001b[0m\u001b[0m\n\u001b[0;32m-> 1551\u001b[0;31m                     \u001b[0;32mraise\u001b[0m \u001b[0mchild_exception_type\u001b[0m\u001b[0;34m(\u001b[0m\u001b[0merrno_num\u001b[0m\u001b[0;34m,\u001b[0m \u001b[0merr_msg\u001b[0m\u001b[0;34m)\u001b[0m\u001b[0;34m\u001b[0m\u001b[0m\n\u001b[0m\u001b[1;32m   1552\u001b[0m                 \u001b[0;32mraise\u001b[0m \u001b[0mchild_exception_type\u001b[0m\u001b[0;34m(\u001b[0m\u001b[0merr_msg\u001b[0m\u001b[0;34m)\u001b[0m\u001b[0;34m\u001b[0m\u001b[0m\n",
      "\u001b[0;31mFileNotFoundError\u001b[0m: [Errno 2] No such file or directory: 'dot'",
      "\nDuring handling of the above exception, another exception occurred:\n",
      "\u001b[0;31mExecutableNotFound\u001b[0mTraceback (most recent call last)",
      "\u001b[0;32m/Users/Seobs/miniconda3/lib/python3.5/site-packages/IPython/core/formatters.py\u001b[0m in \u001b[0;36m__call__\u001b[0;34m(self, obj)\u001b[0m\n\u001b[1;32m    309\u001b[0m             \u001b[0mmethod\u001b[0m \u001b[0;34m=\u001b[0m \u001b[0mget_real_method\u001b[0m\u001b[0;34m(\u001b[0m\u001b[0mobj\u001b[0m\u001b[0;34m,\u001b[0m \u001b[0mself\u001b[0m\u001b[0;34m.\u001b[0m\u001b[0mprint_method\u001b[0m\u001b[0;34m)\u001b[0m\u001b[0;34m\u001b[0m\u001b[0m\n\u001b[1;32m    310\u001b[0m             \u001b[0;32mif\u001b[0m \u001b[0mmethod\u001b[0m \u001b[0;32mis\u001b[0m \u001b[0;32mnot\u001b[0m \u001b[0;32mNone\u001b[0m\u001b[0;34m:\u001b[0m\u001b[0;34m\u001b[0m\u001b[0m\n\u001b[0;32m--> 311\u001b[0;31m                 \u001b[0;32mreturn\u001b[0m \u001b[0mmethod\u001b[0m\u001b[0;34m(\u001b[0m\u001b[0;34m)\u001b[0m\u001b[0;34m\u001b[0m\u001b[0m\n\u001b[0m\u001b[1;32m    312\u001b[0m             \u001b[0;32mreturn\u001b[0m \u001b[0;32mNone\u001b[0m\u001b[0;34m\u001b[0m\u001b[0m\n\u001b[1;32m    313\u001b[0m         \u001b[0;32melse\u001b[0m\u001b[0;34m:\u001b[0m\u001b[0;34m\u001b[0m\u001b[0m\n",
      "\u001b[0;32m/Users/Seobs/miniconda3/lib/python3.5/site-packages/graphviz/files.py\u001b[0m in \u001b[0;36m_repr_svg_\u001b[0;34m(self)\u001b[0m\n\u001b[1;32m     99\u001b[0m \u001b[0;34m\u001b[0m\u001b[0m\n\u001b[1;32m    100\u001b[0m     \u001b[0;32mdef\u001b[0m \u001b[0m_repr_svg_\u001b[0m\u001b[0;34m(\u001b[0m\u001b[0mself\u001b[0m\u001b[0;34m)\u001b[0m\u001b[0;34m:\u001b[0m\u001b[0;34m\u001b[0m\u001b[0m\n\u001b[0;32m--> 101\u001b[0;31m         \u001b[0;32mreturn\u001b[0m \u001b[0mself\u001b[0m\u001b[0;34m.\u001b[0m\u001b[0mpipe\u001b[0m\u001b[0;34m(\u001b[0m\u001b[0mformat\u001b[0m\u001b[0;34m=\u001b[0m\u001b[0;34m'svg'\u001b[0m\u001b[0;34m)\u001b[0m\u001b[0;34m.\u001b[0m\u001b[0mdecode\u001b[0m\u001b[0;34m(\u001b[0m\u001b[0mself\u001b[0m\u001b[0;34m.\u001b[0m\u001b[0m_encoding\u001b[0m\u001b[0;34m)\u001b[0m\u001b[0;34m\u001b[0m\u001b[0m\n\u001b[0m\u001b[1;32m    102\u001b[0m \u001b[0;34m\u001b[0m\u001b[0m\n\u001b[1;32m    103\u001b[0m     \u001b[0;32mdef\u001b[0m \u001b[0mpipe\u001b[0m\u001b[0;34m(\u001b[0m\u001b[0mself\u001b[0m\u001b[0;34m,\u001b[0m \u001b[0mformat\u001b[0m\u001b[0;34m=\u001b[0m\u001b[0;32mNone\u001b[0m\u001b[0;34m)\u001b[0m\u001b[0;34m:\u001b[0m\u001b[0;34m\u001b[0m\u001b[0m\n",
      "\u001b[0;32m/Users/Seobs/miniconda3/lib/python3.5/site-packages/graphviz/files.py\u001b[0m in \u001b[0;36mpipe\u001b[0;34m(self, format)\u001b[0m\n\u001b[1;32m    118\u001b[0m         \u001b[0mdata\u001b[0m \u001b[0;34m=\u001b[0m \u001b[0mtext_type\u001b[0m\u001b[0;34m(\u001b[0m\u001b[0mself\u001b[0m\u001b[0;34m.\u001b[0m\u001b[0msource\u001b[0m\u001b[0;34m)\u001b[0m\u001b[0;34m.\u001b[0m\u001b[0mencode\u001b[0m\u001b[0;34m(\u001b[0m\u001b[0mself\u001b[0m\u001b[0;34m.\u001b[0m\u001b[0m_encoding\u001b[0m\u001b[0;34m)\u001b[0m\u001b[0;34m\u001b[0m\u001b[0m\n\u001b[1;32m    119\u001b[0m \u001b[0;34m\u001b[0m\u001b[0m\n\u001b[0;32m--> 120\u001b[0;31m         \u001b[0mouts\u001b[0m \u001b[0;34m=\u001b[0m \u001b[0mbackend\u001b[0m\u001b[0;34m.\u001b[0m\u001b[0mpipe\u001b[0m\u001b[0;34m(\u001b[0m\u001b[0mself\u001b[0m\u001b[0;34m.\u001b[0m\u001b[0m_engine\u001b[0m\u001b[0;34m,\u001b[0m \u001b[0mformat\u001b[0m\u001b[0;34m,\u001b[0m \u001b[0mdata\u001b[0m\u001b[0;34m)\u001b[0m\u001b[0;34m\u001b[0m\u001b[0m\n\u001b[0m\u001b[1;32m    121\u001b[0m \u001b[0;34m\u001b[0m\u001b[0m\n\u001b[1;32m    122\u001b[0m         \u001b[0;32mreturn\u001b[0m \u001b[0mouts\u001b[0m\u001b[0;34m\u001b[0m\u001b[0m\n",
      "\u001b[0;32m/Users/Seobs/miniconda3/lib/python3.5/site-packages/graphviz/backend.py\u001b[0m in \u001b[0;36mpipe\u001b[0;34m(engine, format, data, quiet)\u001b[0m\n\u001b[1;32m    154\u001b[0m     \u001b[0;32mexcept\u001b[0m \u001b[0mOSError\u001b[0m \u001b[0;32mas\u001b[0m \u001b[0me\u001b[0m\u001b[0;34m:\u001b[0m\u001b[0;34m\u001b[0m\u001b[0m\n\u001b[1;32m    155\u001b[0m         \u001b[0;32mif\u001b[0m \u001b[0me\u001b[0m\u001b[0;34m.\u001b[0m\u001b[0merrno\u001b[0m \u001b[0;34m==\u001b[0m \u001b[0merrno\u001b[0m\u001b[0;34m.\u001b[0m\u001b[0mENOENT\u001b[0m\u001b[0;34m:\u001b[0m\u001b[0;34m\u001b[0m\u001b[0m\n\u001b[0;32m--> 156\u001b[0;31m             \u001b[0;32mraise\u001b[0m \u001b[0mExecutableNotFound\u001b[0m\u001b[0;34m(\u001b[0m\u001b[0margs\u001b[0m\u001b[0;34m)\u001b[0m\u001b[0;34m\u001b[0m\u001b[0m\n\u001b[0m\u001b[1;32m    157\u001b[0m         \u001b[0;32melse\u001b[0m\u001b[0;34m:\u001b[0m  \u001b[0;31m# pragma: no cover\u001b[0m\u001b[0;34m\u001b[0m\u001b[0m\n\u001b[1;32m    158\u001b[0m             \u001b[0;32mraise\u001b[0m\u001b[0;34m\u001b[0m\u001b[0m\n",
      "\u001b[0;31mExecutableNotFound\u001b[0m: failed to execute ['dot', '-Tsvg'], make sure the Graphviz executables are on your systems' PATH"
     ]
    },
    {
     "data": {
      "text/plain": [
       "<graphviz.dot.Digraph at 0x10c7efcf8>"
      ]
     },
     "execution_count": 13,
     "metadata": {},
     "output_type": "execute_result"
    }
   ],
   "source": [
    "dot = Digraph()\n",
    "\n",
    "for n in tf.get_default_graph().as_graph_def().node:\n",
    "    dot.node(n.name, label=n.name)\n",
    "    print (n.name)\n",
    "    \n",
    "    for i in n.input:\n",
    "        dot.edge(i, n.name)\n",
    "        print (i, n.name)\n",
    "        \n",
    "dot"
   ]
  },
  {
   "cell_type": "markdown",
   "metadata": {},
   "source": [
    "시스템적으로 설치할 필요가 있음.  \n",
    "\n",
    "맥 사용자라면\n",
    "> brew install graphviz"
   ]
  },
  {
   "cell_type": "code",
   "execution_count": 14,
   "metadata": {
    "collapsed": false
   },
   "outputs": [
    {
     "name": "stdout",
     "output_type": "stream",
     "text": [
      "Add/x\n",
      "Add/y\n",
      "Add\n",
      "Add/x Add\n",
      "Add/y Add\n"
     ]
    },
    {
     "data": {
      "image/svg+xml": [
       "<?xml version=\"1.0\" encoding=\"UTF-8\" standalone=\"no\"?>\n",
       "<!DOCTYPE svg PUBLIC \"-//W3C//DTD SVG 1.1//EN\"\n",
       " \"http://www.w3.org/Graphics/SVG/1.1/DTD/svg11.dtd\">\n",
       "<!-- Generated by graphviz version 2.40.1 (20161225.0304)\n",
       " -->\n",
       "<!-- Title: %3 Pages: 1 -->\n",
       "<svg width=\"154pt\" height=\"116pt\"\n",
       " viewBox=\"0.00 0.00 154.43 116.00\" xmlns=\"http://www.w3.org/2000/svg\" xmlns:xlink=\"http://www.w3.org/1999/xlink\">\n",
       "<g id=\"graph0\" class=\"graph\" transform=\"scale(1 1) rotate(0) translate(4 112)\">\n",
       "<title>%3</title>\n",
       "<polygon fill=\"#ffffff\" stroke=\"transparent\" points=\"-4,4 -4,-112 150.431,-112 150.431,4 -4,4\"/>\n",
       "<!-- Add/x -->\n",
       "<g id=\"node1\" class=\"node\">\n",
       "<title>Add/x</title>\n",
       "<ellipse fill=\"none\" stroke=\"#000000\" cx=\"32.2155\" cy=\"-90\" rx=\"32.4324\" ry=\"18\"/>\n",
       "<text text-anchor=\"middle\" x=\"32.2155\" y=\"-85.8\" font-family=\"Times,serif\" font-size=\"14.00\" fill=\"#000000\">Add/x</text>\n",
       "</g>\n",
       "<!-- Add -->\n",
       "<g id=\"node3\" class=\"node\">\n",
       "<title>Add</title>\n",
       "<ellipse fill=\"none\" stroke=\"#000000\" cx=\"73.2155\" cy=\"-18\" rx=\"27\" ry=\"18\"/>\n",
       "<text text-anchor=\"middle\" x=\"73.2155\" y=\"-13.8\" font-family=\"Times,serif\" font-size=\"14.00\" fill=\"#000000\">Add</text>\n",
       "</g>\n",
       "<!-- Add/x&#45;&gt;Add -->\n",
       "<g id=\"edge1\" class=\"edge\">\n",
       "<title>Add/x&#45;&gt;Add</title>\n",
       "<path fill=\"none\" stroke=\"#000000\" d=\"M42.1404,-72.5708C47.0255,-63.9922 53.0137,-53.4762 58.4252,-43.9732\"/>\n",
       "<polygon fill=\"#000000\" stroke=\"#000000\" points=\"61.4749,-45.6905 63.3819,-35.2687 55.392,-42.2266 61.4749,-45.6905\"/>\n",
       "</g>\n",
       "<!-- Add/y -->\n",
       "<g id=\"node2\" class=\"node\">\n",
       "<title>Add/y</title>\n",
       "<ellipse fill=\"none\" stroke=\"#000000\" cx=\"114.2155\" cy=\"-90\" rx=\"32.4324\" ry=\"18\"/>\n",
       "<text text-anchor=\"middle\" x=\"114.2155\" y=\"-85.8\" font-family=\"Times,serif\" font-size=\"14.00\" fill=\"#000000\">Add/y</text>\n",
       "</g>\n",
       "<!-- Add/y&#45;&gt;Add -->\n",
       "<g id=\"edge2\" class=\"edge\">\n",
       "<title>Add/y&#45;&gt;Add</title>\n",
       "<path fill=\"none\" stroke=\"#000000\" d=\"M104.2905,-72.5708C99.4055,-63.9922 93.4172,-53.4762 88.0058,-43.9732\"/>\n",
       "<polygon fill=\"#000000\" stroke=\"#000000\" points=\"91.0389,-42.2266 83.049,-35.2687 84.956,-45.6905 91.0389,-42.2266\"/>\n",
       "</g>\n",
       "</g>\n",
       "</svg>\n"
      ],
      "text/plain": [
       "<graphviz.dot.Digraph at 0x10c933828>"
      ]
     },
     "execution_count": 14,
     "metadata": {},
     "output_type": "execute_result"
    }
   ],
   "source": [
    "dot = Digraph()\n",
    "\n",
    "for n in tf.get_default_graph().as_graph_def().node:\n",
    "    dot.node(n.name, label=n.name)\n",
    "    print (n.name)\n",
    "    \n",
    "    for i in n.input:\n",
    "        dot.edge(i, n.name)\n",
    "        print (i, n.name)\n",
    "        \n",
    "dot"
   ]
  },
  {
   "cell_type": "code",
   "execution_count": 15,
   "metadata": {
    "collapsed": true
   },
   "outputs": [],
   "source": [
    "x = 2\n",
    "y = 3\n",
    "op1 = tf.add(x, y)\n",
    "op2 = tf.multiply(x, y)\n",
    "useless = tf.multiply(x, op1)\n",
    "op3 = tf.pow(op2, op1)\n",
    "with tf.Session() as sess:\n",
    "    op3, not_useless = sess.run([op3, useless])"
   ]
  },
  {
   "cell_type": "code",
   "execution_count": 17,
   "metadata": {
    "collapsed": false
   },
   "outputs": [
    {
     "data": {
      "image/svg+xml": [
       "<?xml version=\"1.0\" encoding=\"UTF-8\" standalone=\"no\"?>\n",
       "<!DOCTYPE svg PUBLIC \"-//W3C//DTD SVG 1.1//EN\"\n",
       " \"http://www.w3.org/Graphics/SVG/1.1/DTD/svg11.dtd\">\n",
       "<!-- Generated by graphviz version 2.40.1 (20161225.0304)\n",
       " -->\n",
       "<!-- Title: %3 Pages: 1 -->\n",
       "<svg width=\"517pt\" height=\"188pt\"\n",
       " viewBox=\"0.00 0.00 516.94 188.00\" xmlns=\"http://www.w3.org/2000/svg\" xmlns:xlink=\"http://www.w3.org/1999/xlink\">\n",
       "<g id=\"graph0\" class=\"graph\" transform=\"scale(1 1) rotate(0) translate(4 184)\">\n",
       "<title>%3</title>\n",
       "<polygon fill=\"#ffffff\" stroke=\"transparent\" points=\"-4,4 -4,-184 512.943,-184 512.943,4 -4,4\"/>\n",
       "<!-- Add/x -->\n",
       "<g id=\"node1\" class=\"node\">\n",
       "<title>Add/x</title>\n",
       "<ellipse fill=\"none\" stroke=\"#000000\" cx=\"32.2155\" cy=\"-162\" rx=\"32.4324\" ry=\"18\"/>\n",
       "<text text-anchor=\"middle\" x=\"32.2155\" y=\"-157.8\" font-family=\"Times,serif\" font-size=\"14.00\" fill=\"#000000\">Add/x</text>\n",
       "</g>\n",
       "<!-- Add -->\n",
       "<g id=\"node3\" class=\"node\">\n",
       "<title>Add</title>\n",
       "<ellipse fill=\"none\" stroke=\"#000000\" cx=\"73.2155\" cy=\"-90\" rx=\"27\" ry=\"18\"/>\n",
       "<text text-anchor=\"middle\" x=\"73.2155\" y=\"-85.8\" font-family=\"Times,serif\" font-size=\"14.00\" fill=\"#000000\">Add</text>\n",
       "</g>\n",
       "<!-- Add/x&#45;&gt;Add -->\n",
       "<g id=\"edge1\" class=\"edge\">\n",
       "<title>Add/x&#45;&gt;Add</title>\n",
       "<path fill=\"none\" stroke=\"#000000\" d=\"M42.1404,-144.5708C47.0255,-135.9922 53.0137,-125.4762 58.4252,-115.9732\"/>\n",
       "<polygon fill=\"#000000\" stroke=\"#000000\" points=\"61.4749,-117.6905 63.3819,-107.2687 55.392,-114.2266 61.4749,-117.6905\"/>\n",
       "</g>\n",
       "<!-- Add/y -->\n",
       "<g id=\"node2\" class=\"node\">\n",
       "<title>Add/y</title>\n",
       "<ellipse fill=\"none\" stroke=\"#000000\" cx=\"114.2155\" cy=\"-162\" rx=\"32.4324\" ry=\"18\"/>\n",
       "<text text-anchor=\"middle\" x=\"114.2155\" y=\"-157.8\" font-family=\"Times,serif\" font-size=\"14.00\" fill=\"#000000\">Add/y</text>\n",
       "</g>\n",
       "<!-- Add/y&#45;&gt;Add -->\n",
       "<g id=\"edge2\" class=\"edge\">\n",
       "<title>Add/y&#45;&gt;Add</title>\n",
       "<path fill=\"none\" stroke=\"#000000\" d=\"M104.2905,-144.5708C99.4055,-135.9922 93.4172,-125.4762 88.0058,-115.9732\"/>\n",
       "<polygon fill=\"#000000\" stroke=\"#000000\" points=\"91.0389,-114.2266 83.049,-107.2687 84.956,-117.6905 91.0389,-114.2266\"/>\n",
       "</g>\n",
       "<!-- Add_1/x -->\n",
       "<g id=\"node4\" class=\"node\">\n",
       "<title>Add_1/x</title>\n",
       "<ellipse fill=\"none\" stroke=\"#000000\" cx=\"205.2155\" cy=\"-162\" rx=\"41.118\" ry=\"18\"/>\n",
       "<text text-anchor=\"middle\" x=\"205.2155\" y=\"-157.8\" font-family=\"Times,serif\" font-size=\"14.00\" fill=\"#000000\">Add_1/x</text>\n",
       "</g>\n",
       "<!-- Add_1 -->\n",
       "<g id=\"node6\" class=\"node\">\n",
       "<title>Add_1</title>\n",
       "<ellipse fill=\"none\" stroke=\"#000000\" cx=\"305.2155\" cy=\"-90\" rx=\"34.3614\" ry=\"18\"/>\n",
       "<text text-anchor=\"middle\" x=\"305.2155\" y=\"-85.8\" font-family=\"Times,serif\" font-size=\"14.00\" fill=\"#000000\">Add_1</text>\n",
       "</g>\n",
       "<!-- Add_1/x&#45;&gt;Add_1 -->\n",
       "<g id=\"edge3\" class=\"edge\">\n",
       "<title>Add_1/x&#45;&gt;Add_1</title>\n",
       "<path fill=\"none\" stroke=\"#000000\" d=\"M226.914,-146.3771C241.4542,-135.9081 260.7557,-122.011 276.5568,-110.6343\"/>\n",
       "<polygon fill=\"#000000\" stroke=\"#000000\" points=\"278.8522,-113.2944 284.9225,-104.6109 274.7621,-107.6136 278.8522,-113.2944\"/>\n",
       "</g>\n",
       "<!-- Add_1/y -->\n",
       "<g id=\"node5\" class=\"node\">\n",
       "<title>Add_1/y</title>\n",
       "<ellipse fill=\"none\" stroke=\"#000000\" cx=\"305.2155\" cy=\"-162\" rx=\"41.118\" ry=\"18\"/>\n",
       "<text text-anchor=\"middle\" x=\"305.2155\" y=\"-157.8\" font-family=\"Times,serif\" font-size=\"14.00\" fill=\"#000000\">Add_1/y</text>\n",
       "</g>\n",
       "<!-- Add_1/y&#45;&gt;Add_1 -->\n",
       "<g id=\"edge4\" class=\"edge\">\n",
       "<title>Add_1/y&#45;&gt;Add_1</title>\n",
       "<path fill=\"none\" stroke=\"#000000\" d=\"M305.2155,-143.8314C305.2155,-136.131 305.2155,-126.9743 305.2155,-118.4166\"/>\n",
       "<polygon fill=\"#000000\" stroke=\"#000000\" points=\"308.7156,-118.4132 305.2155,-108.4133 301.7156,-118.4133 308.7156,-118.4132\"/>\n",
       "</g>\n",
       "<!-- Mul_1 -->\n",
       "<g id=\"node11\" class=\"node\">\n",
       "<title>Mul_1</title>\n",
       "<ellipse fill=\"none\" stroke=\"#000000\" cx=\"262.2155\" cy=\"-18\" rx=\"33.8857\" ry=\"18\"/>\n",
       "<text text-anchor=\"middle\" x=\"262.2155\" y=\"-13.8\" font-family=\"Times,serif\" font-size=\"14.00\" fill=\"#000000\">Mul_1</text>\n",
       "</g>\n",
       "<!-- Add_1&#45;&gt;Mul_1 -->\n",
       "<g id=\"edge8\" class=\"edge\">\n",
       "<title>Add_1&#45;&gt;Mul_1</title>\n",
       "<path fill=\"none\" stroke=\"#000000\" d=\"M294.8064,-72.5708C289.6831,-63.9922 283.4027,-53.4762 277.7272,-43.9732\"/>\n",
       "<polygon fill=\"#000000\" stroke=\"#000000\" points=\"280.6611,-42.0595 272.5287,-35.2687 274.6513,-45.6487 280.6611,-42.0595\"/>\n",
       "</g>\n",
       "<!-- Pow -->\n",
       "<g id=\"node12\" class=\"node\">\n",
       "<title>Pow</title>\n",
       "<ellipse fill=\"none\" stroke=\"#000000\" cx=\"348.2155\" cy=\"-18\" rx=\"27\" ry=\"18\"/>\n",
       "<text text-anchor=\"middle\" x=\"348.2155\" y=\"-13.8\" font-family=\"Times,serif\" font-size=\"14.00\" fill=\"#000000\">Pow</text>\n",
       "</g>\n",
       "<!-- Add_1&#45;&gt;Pow -->\n",
       "<g id=\"edge10\" class=\"edge\">\n",
       "<title>Add_1&#45;&gt;Pow</title>\n",
       "<path fill=\"none\" stroke=\"#000000\" d=\"M315.6246,-72.5708C320.8232,-63.8661 327.2133,-53.1665 332.9537,-43.5546\"/>\n",
       "<polygon fill=\"#000000\" stroke=\"#000000\" points=\"336.0758,-45.153 338.1983,-34.7729 330.066,-41.5637 336.0758,-45.153\"/>\n",
       "</g>\n",
       "<!-- Mul/x -->\n",
       "<g id=\"node7\" class=\"node\">\n",
       "<title>Mul/x</title>\n",
       "<ellipse fill=\"none\" stroke=\"#000000\" cx=\"396.2155\" cy=\"-162\" rx=\"31.9567\" ry=\"18\"/>\n",
       "<text text-anchor=\"middle\" x=\"396.2155\" y=\"-157.8\" font-family=\"Times,serif\" font-size=\"14.00\" fill=\"#000000\">Mul/x</text>\n",
       "</g>\n",
       "<!-- Mul -->\n",
       "<g id=\"node9\" class=\"node\">\n",
       "<title>Mul</title>\n",
       "<ellipse fill=\"none\" stroke=\"#000000\" cx=\"396.2155\" cy=\"-90\" rx=\"27\" ry=\"18\"/>\n",
       "<text text-anchor=\"middle\" x=\"396.2155\" y=\"-85.8\" font-family=\"Times,serif\" font-size=\"14.00\" fill=\"#000000\">Mul</text>\n",
       "</g>\n",
       "<!-- Mul/x&#45;&gt;Mul -->\n",
       "<g id=\"edge5\" class=\"edge\">\n",
       "<title>Mul/x&#45;&gt;Mul</title>\n",
       "<path fill=\"none\" stroke=\"#000000\" d=\"M396.2155,-143.8314C396.2155,-136.131 396.2155,-126.9743 396.2155,-118.4166\"/>\n",
       "<polygon fill=\"#000000\" stroke=\"#000000\" points=\"399.7156,-118.4132 396.2155,-108.4133 392.7156,-118.4133 399.7156,-118.4132\"/>\n",
       "</g>\n",
       "<!-- Mul/y -->\n",
       "<g id=\"node8\" class=\"node\">\n",
       "<title>Mul/y</title>\n",
       "<ellipse fill=\"none\" stroke=\"#000000\" cx=\"477.2155\" cy=\"-162\" rx=\"31.9567\" ry=\"18\"/>\n",
       "<text text-anchor=\"middle\" x=\"477.2155\" y=\"-157.8\" font-family=\"Times,serif\" font-size=\"14.00\" fill=\"#000000\">Mul/y</text>\n",
       "</g>\n",
       "<!-- Mul/y&#45;&gt;Mul -->\n",
       "<g id=\"edge6\" class=\"edge\">\n",
       "<title>Mul/y&#45;&gt;Mul</title>\n",
       "<path fill=\"none\" stroke=\"#000000\" d=\"M460.0375,-146.7307C448.4233,-136.407 432.9276,-122.633 420.1135,-111.2426\"/>\n",
       "<polygon fill=\"#000000\" stroke=\"#000000\" points=\"422.3394,-108.5384 412.54,-104.5107 417.6889,-113.7703 422.3394,-108.5384\"/>\n",
       "</g>\n",
       "<!-- Mul&#45;&gt;Pow -->\n",
       "<g id=\"edge9\" class=\"edge\">\n",
       "<title>Mul&#45;&gt;Pow</title>\n",
       "<path fill=\"none\" stroke=\"#000000\" d=\"M385.0827,-73.3008C379.085,-64.3043 371.5653,-53.0247 364.8841,-43.0029\"/>\n",
       "<polygon fill=\"#000000\" stroke=\"#000000\" points=\"367.7472,-40.9877 359.2879,-34.6087 361.9228,-44.8706 367.7472,-40.9877\"/>\n",
       "</g>\n",
       "<!-- Mul_1/x -->\n",
       "<g id=\"node10\" class=\"node\">\n",
       "<title>Mul_1/x</title>\n",
       "<ellipse fill=\"none\" stroke=\"#000000\" cx=\"212.2155\" cy=\"-90\" rx=\"40.6421\" ry=\"18\"/>\n",
       "<text text-anchor=\"middle\" x=\"212.2155\" y=\"-85.8\" font-family=\"Times,serif\" font-size=\"14.00\" fill=\"#000000\">Mul_1/x</text>\n",
       "</g>\n",
       "<!-- Mul_1/x&#45;&gt;Mul_1 -->\n",
       "<g id=\"edge7\" class=\"edge\">\n",
       "<title>Mul_1/x&#45;&gt;Mul_1</title>\n",
       "<path fill=\"none\" stroke=\"#000000\" d=\"M224.3191,-72.5708C230.3379,-63.9038 237.7299,-53.2592 244.3824,-43.6796\"/>\n",
       "<polygon fill=\"#000000\" stroke=\"#000000\" points=\"247.3941,-45.4788 250.2233,-35.2687 241.6445,-41.486 247.3941,-45.4788\"/>\n",
       "</g>\n",
       "</g>\n",
       "</svg>\n"
      ],
      "text/plain": [
       "<graphviz.dot.Digraph at 0x10c937cc0>"
      ]
     },
     "execution_count": 17,
     "metadata": {},
     "output_type": "execute_result"
    }
   ],
   "source": [
    "dot = Digraph()\n",
    "\n",
    "for n in tf.get_default_graph().as_graph_def().node:\n",
    "    dot.node(n.name, label=n.name)\n",
    "    \n",
    "    for i in n.input:\n",
    "        dot.edge(i, n.name)\n",
    "        \n",
    "dot"
   ]
  },
  {
   "cell_type": "code",
   "execution_count": null,
   "metadata": {
    "collapsed": true
   },
   "outputs": [],
   "source": []
  },
  {
   "cell_type": "code",
   "execution_count": null,
   "metadata": {
    "collapsed": true
   },
   "outputs": [],
   "source": []
  },
  {
   "cell_type": "code",
   "execution_count": null,
   "metadata": {
    "collapsed": true
   },
   "outputs": [],
   "source": []
  },
  {
   "cell_type": "code",
   "execution_count": null,
   "metadata": {
    "collapsed": true
   },
   "outputs": [],
   "source": []
  }
 ],
 "metadata": {
  "kernelspec": {
   "display_name": "Python 3",
   "language": "python",
   "name": "python3"
  },
  "language_info": {
   "codemirror_mode": {
    "name": "ipython",
    "version": 3
   },
   "file_extension": ".py",
   "mimetype": "text/x-python",
   "name": "python",
   "nbconvert_exporter": "python",
   "pygments_lexer": "ipython3",
   "version": "3.5.2"
  }
 },
 "nbformat": 4,
 "nbformat_minor": 2
}
