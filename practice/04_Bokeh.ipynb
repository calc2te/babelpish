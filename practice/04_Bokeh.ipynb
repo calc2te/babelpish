{
 "cells": [
  {
   "cell_type": "markdown",
   "metadata": {},
   "source": [
    "## Quickstart\n",
    "\n",
    "http://bokeh.pydata.org/en/latest/docs/user_guide/quickstart.html"
   ]
  },
  {
   "cell_type": "code",
   "execution_count": 1,
   "metadata": {
    "collapsed": true
   },
   "outputs": [],
   "source": [
    "import bokeh.sampledata"
   ]
  },
  {
   "cell_type": "code",
   "execution_count": 3,
   "metadata": {
    "collapsed": false
   },
   "outputs": [],
   "source": [
    "from bokeh.plotting import figure, output_file, show\n",
    "\n",
    "# prepare some data\n",
    "x = [1, 2, 3, 4, 5]\n",
    "y = [6, 7, 2, 4, 5]\n",
    "\n",
    "# output to static HTML file\n",
    "output_file(\"lines.html\")\n",
    "\n",
    "# create a new plot with a title and axis labels\n",
    "p = figure(title=\"simple line example\", x_axis_label='x', y_axis_label='y')\n",
    "\n",
    "# add a line renderer with legend and line thickness\n",
    "p.line(x, y, legend=\"Temp.\", line_width=2)\n",
    "\n",
    "# show the results\n",
    "show(p)"
   ]
  },
  {
   "cell_type": "markdown",
   "metadata": {},
   "source": [
    "## test heungbunnolbu.txt"
   ]
  },
  {
   "cell_type": "code",
   "execution_count": 95,
   "metadata": {
    "collapsed": true
   },
   "outputs": [],
   "source": [
    "with open('heungbunnolbu.txt', 'r') as f:\n",
    "    text = f.read()"
   ]
  },
  {
   "cell_type": "code",
   "execution_count": 96,
   "metadata": {
    "collapsed": false
   },
   "outputs": [],
   "source": [
    "from konlpy.tag import Twitter; t = Twitter()"
   ]
  },
  {
   "cell_type": "code",
   "execution_count": 97,
   "metadata": {
    "collapsed": true
   },
   "outputs": [],
   "source": [
    "def tokenize(doc):\n",
    "    return ['/'.join(t) for t in t.pos(doc, norm=True, stem=True)]"
   ]
  },
  {
   "cell_type": "code",
   "execution_count": 98,
   "metadata": {
    "collapsed": false
   },
   "outputs": [
    {
     "name": "stdout",
     "output_type": "stream",
     "text": [
      "CPU times: user 160 ms, sys: 467 ms, total: 627 ms\n",
      "Wall time: 521 ms\n"
     ]
    }
   ],
   "source": [
    "%%time\n",
    "text_nouns = tokenize(text)"
   ]
  },
  {
   "cell_type": "code",
   "execution_count": 99,
   "metadata": {
    "collapsed": false
   },
   "outputs": [
    {
     "data": {
      "text/plain": [
       "['옛날/Noun',\n",
       " '아주/Noun',\n",
       " '멀다/Adjective',\n",
       " '옛날/Noun',\n",
       " ',/Punctuation',\n",
       " '착하다/Adjective',\n",
       " '아우/Noun',\n",
       " '와/Josa',\n",
       " '욕심/Noun',\n",
       " '쟁이/Suffix']"
      ]
     },
     "execution_count": 99,
     "metadata": {},
     "output_type": "execute_result"
    }
   ],
   "source": [
    "text_nouns[:10]"
   ]
  },
  {
   "cell_type": "code",
   "execution_count": 100,
   "metadata": {
    "collapsed": false
   },
   "outputs": [],
   "source": [
    "import gensim"
   ]
  },
  {
   "cell_type": "code",
   "execution_count": 101,
   "metadata": {
    "collapsed": false
   },
   "outputs": [
    {
     "name": "stdout",
     "output_type": "stream",
     "text": [
      "CPU times: user 93 ms, sys: 12.1 ms, total: 105 ms\n",
      "Wall time: 86 ms\n"
     ]
    }
   ],
   "source": [
    "%%time\n",
    "model = gensim.models.Word2Vec(text_nouns, size=300, window=4, min_count=1, workers=4)"
   ]
  },
  {
   "cell_type": "code",
   "execution_count": null,
   "metadata": {
    "collapsed": true
   },
   "outputs": [],
   "source": []
  },
  {
   "cell_type": "code",
   "execution_count": 102,
   "metadata": {
    "collapsed": false
   },
   "outputs": [
    {
     "data": {
      "text/plain": [
       "(898, 364)"
      ]
     },
     "execution_count": 102,
     "metadata": {},
     "output_type": "execute_result"
    }
   ],
   "source": [
    "len(text_nouns), len(set(text_nouns))"
   ]
  },
  {
   "cell_type": "code",
   "execution_count": 103,
   "metadata": {
    "collapsed": false
   },
   "outputs": [],
   "source": [
    "top = 1000"
   ]
  },
  {
   "cell_type": "code",
   "execution_count": 104,
   "metadata": {
    "collapsed": false
   },
   "outputs": [],
   "source": [
    "vectors = model.syn0[:top]"
   ]
  },
  {
   "cell_type": "code",
   "execution_count": 105,
   "metadata": {
    "collapsed": true
   },
   "outputs": [],
   "source": [
    "labels = model.index2word[:top]"
   ]
  },
  {
   "cell_type": "code",
   "execution_count": 106,
   "metadata": {
    "collapsed": false
   },
   "outputs": [
    {
     "data": {
      "text/plain": [
       "['/', 'o', 'n', 'u', 'N', 'a', 't', 'e', '다', 'r']"
      ]
     },
     "execution_count": 106,
     "metadata": {},
     "output_type": "execute_result"
    }
   ],
   "source": [
    "labels[:10]"
   ]
  },
  {
   "cell_type": "markdown",
   "metadata": {},
   "source": [
    "...  \n",
    "왜죠...?"
   ]
  },
  {
   "cell_type": "code",
   "execution_count": 118,
   "metadata": {
    "collapsed": false
   },
   "outputs": [],
   "source": [
    "texts = []\n",
    "with open('heungbunnolbu.txt', 'r') as f:\n",
    "    texts = [line for line in f if line.rstrip('\\n') != '']"
   ]
  },
  {
   "cell_type": "code",
   "execution_count": 119,
   "metadata": {
    "collapsed": false
   },
   "outputs": [
    {
     "data": {
      "text/plain": [
       "['옛날 아주 먼 옛날, 착한 아우와 욕심쟁이 형이 한 마을에 살았습니다. 아버지가 물려준 재산은 형인 놀부가 몽땅 차지해서 동생인 흥부는 가난하게 살아야 했습니다. 아이가 많은 흥부는 아무리 열심히 일해도 살림이 나아지지 않았습니다.\\n',\n",
       " '어느날 먹을 것이 떨어진 흥부는 할 수 없이 놀부를 찾아 갔습니다. \"형님, 쌀 좀 꾸어 주세요. 아이들이 굶고 있어요. 가을이 되면 꼭 갚겠습니다.\" \"뭐라고?\" 이 게으름뱅이 같은 놈! 열심히 일 할 생각은 않고 구걸이나 다니다니! 썩 나가거라!\" 놀부는 담뱃대를 휘두르며 소리를 질러 흥부를 쫒아 버렸습니다. \\n']"
      ]
     },
     "execution_count": 119,
     "metadata": {},
     "output_type": "execute_result"
    }
   ],
   "source": [
    "texts[:2]"
   ]
  },
  {
   "cell_type": "code",
   "execution_count": 120,
   "metadata": {
    "collapsed": true
   },
   "outputs": [],
   "source": [
    "text_nouns = [tokenize(text) for text in texts]"
   ]
  },
  {
   "cell_type": "code",
   "execution_count": 122,
   "metadata": {
    "collapsed": false
   },
   "outputs": [
    {
     "name": "stdout",
     "output_type": "stream",
     "text": [
      "CPU times: user 54.6 ms, sys: 14.2 ms, total: 68.8 ms\n",
      "Wall time: 81.4 ms\n"
     ]
    }
   ],
   "source": [
    "%%time\n",
    "model = gensim.models.Word2Vec(text_nouns, size=300, window=4, min_count=1, workers=4)"
   ]
  },
  {
   "cell_type": "code",
   "execution_count": 124,
   "metadata": {
    "collapsed": true
   },
   "outputs": [],
   "source": [
    "vectors = model.syn0[:top]"
   ]
  },
  {
   "cell_type": "code",
   "execution_count": 125,
   "metadata": {
    "collapsed": true
   },
   "outputs": [],
   "source": [
    "vectors = model.syn0[:top]"
   ]
  },
  {
   "cell_type": "code",
   "execution_count": 126,
   "metadata": {
    "collapsed": false
   },
   "outputs": [
    {
     "data": {
      "text/plain": [
       "['./Punctuation',\n",
       " '하다/Verb',\n",
       " '가/Josa',\n",
       " '이/Josa',\n",
       " '박/Noun',\n",
       " '을/Josa',\n",
       " ',/Punctuation',\n",
       " '는/Josa',\n",
       " '를/Josa',\n",
       " '\"/Punctuation']"
      ]
     },
     "execution_count": 126,
     "metadata": {},
     "output_type": "execute_result"
    }
   ],
   "source": [
    "labels[:10]"
   ]
  },
  {
   "cell_type": "code",
   "execution_count": 127,
   "metadata": {
    "collapsed": false
   },
   "outputs": [],
   "source": [
    "import numpy as np\n",
    "from sklearn.manifold import TSNE"
   ]
  },
  {
   "cell_type": "code",
   "execution_count": 128,
   "metadata": {
    "collapsed": false
   },
   "outputs": [
    {
     "name": "stdout",
     "output_type": "stream",
     "text": [
      "[t-SNE] Computing pairwise distances...\n",
      "[t-SNE] Computed conditional probabilities for sample 364 / 364\n",
      "[t-SNE] Mean sigma: 0.002942\n",
      "[t-SNE] KL divergence after 100 iterations with early exaggeration: 23.584786\n",
      "[t-SNE] Error after 375 iterations: 23.584786\n"
     ]
    }
   ],
   "source": [
    "if np.shape(vectors)[1] > 2:\n",
    "    tsne = TSNE(perplexity=10, n_components=2, init='random', n_iter=1000, verbose=1, learning_rate=500, method='exact')\n",
    "    vectors = tsne.fit_transform(vectors)"
   ]
  },
  {
   "cell_type": "code",
   "execution_count": 129,
   "metadata": {
    "collapsed": false
   },
   "outputs": [],
   "source": [
    "from bokeh.plotting import figure, show\n",
    "from bokeh.models import ColumnDataSource, LabelSet"
   ]
  },
  {
   "cell_type": "code",
   "execution_count": 130,
   "metadata": {
    "collapsed": false
   },
   "outputs": [],
   "source": [
    "source = ColumnDataSource(data=dict(x=vectors.T[0], y=vectors.T[1], word=labels))"
   ]
  },
  {
   "cell_type": "code",
   "execution_count": 131,
   "metadata": {
    "collapsed": true
   },
   "outputs": [],
   "source": [
    "label_set = LabelSet(x='x',y='y',text='word',source=source)"
   ]
  },
  {
   "cell_type": "code",
   "execution_count": 132,
   "metadata": {
    "collapsed": true
   },
   "outputs": [],
   "source": [
    "tools = \"pan,wheel_zoom,box_zoom,reset,resize\""
   ]
  },
  {
   "cell_type": "code",
   "execution_count": 133,
   "metadata": {
    "collapsed": true
   },
   "outputs": [],
   "source": [
    "p = figure(plot_width=900,plot_height=900,tools=[tools],title='title')"
   ]
  },
  {
   "cell_type": "code",
   "execution_count": 134,
   "metadata": {
    "collapsed": false
   },
   "outputs": [
    {
     "data": {
      "text/html": [
       "<div style=\"display: table;\"><div style=\"display: table-row;\"><div style=\"display: table-cell;\"><b title=\"bokeh.models.renderers.GlyphRenderer\">GlyphRenderer</b>(</div><div style=\"display: table-cell;\">id&nbsp;=&nbsp;'cfd2c0dd-cee7-4ef5-ba01-4775753976be', <span id=\"778a41ef-00ed-448f-b08d-58f7311f0060\" style=\"cursor: pointer;\">&hellip;)</span></div></div><div class=\"424713ee-d0a3-40a3-9af8-1f7d507bd06c\" style=\"display: none;\"><div style=\"display: table-cell;\"></div><div style=\"display: table-cell;\">data_source&nbsp;=&nbsp;ColumnDataSource(id='77132b50-e69c-425c-bc16-2fbd307c07c4', ...),</div></div><div class=\"424713ee-d0a3-40a3-9af8-1f7d507bd06c\" style=\"display: none;\"><div style=\"display: table-cell;\"></div><div style=\"display: table-cell;\">glyph&nbsp;=&nbsp;Circle(id='5c990f76-e7bd-4097-a690-86984da4d38b', ...),</div></div><div class=\"424713ee-d0a3-40a3-9af8-1f7d507bd06c\" style=\"display: none;\"><div style=\"display: table-cell;\"></div><div style=\"display: table-cell;\">hover_glyph&nbsp;=&nbsp;None,</div></div><div class=\"424713ee-d0a3-40a3-9af8-1f7d507bd06c\" style=\"display: none;\"><div style=\"display: table-cell;\"></div><div style=\"display: table-cell;\">js_event_callbacks&nbsp;=&nbsp;{},</div></div><div class=\"424713ee-d0a3-40a3-9af8-1f7d507bd06c\" style=\"display: none;\"><div style=\"display: table-cell;\"></div><div style=\"display: table-cell;\">js_property_callbacks&nbsp;=&nbsp;{},</div></div><div class=\"424713ee-d0a3-40a3-9af8-1f7d507bd06c\" style=\"display: none;\"><div style=\"display: table-cell;\"></div><div style=\"display: table-cell;\">level&nbsp;=&nbsp;'glyph',</div></div><div class=\"424713ee-d0a3-40a3-9af8-1f7d507bd06c\" style=\"display: none;\"><div style=\"display: table-cell;\"></div><div style=\"display: table-cell;\">muted&nbsp;=&nbsp;False,</div></div><div class=\"424713ee-d0a3-40a3-9af8-1f7d507bd06c\" style=\"display: none;\"><div style=\"display: table-cell;\"></div><div style=\"display: table-cell;\">muted_glyph&nbsp;=&nbsp;None,</div></div><div class=\"424713ee-d0a3-40a3-9af8-1f7d507bd06c\" style=\"display: none;\"><div style=\"display: table-cell;\"></div><div style=\"display: table-cell;\">name&nbsp;=&nbsp;None,</div></div><div class=\"424713ee-d0a3-40a3-9af8-1f7d507bd06c\" style=\"display: none;\"><div style=\"display: table-cell;\"></div><div style=\"display: table-cell;\">nonselection_glyph&nbsp;=&nbsp;Circle(id='00647ac9-d125-4dfc-83be-7be1f72ec633', ...),</div></div><div class=\"424713ee-d0a3-40a3-9af8-1f7d507bd06c\" style=\"display: none;\"><div style=\"display: table-cell;\"></div><div style=\"display: table-cell;\">selection_glyph&nbsp;=&nbsp;None,</div></div><div class=\"424713ee-d0a3-40a3-9af8-1f7d507bd06c\" style=\"display: none;\"><div style=\"display: table-cell;\"></div><div style=\"display: table-cell;\">subscribed_events&nbsp;=&nbsp;[],</div></div><div class=\"424713ee-d0a3-40a3-9af8-1f7d507bd06c\" style=\"display: none;\"><div style=\"display: table-cell;\"></div><div style=\"display: table-cell;\">tags&nbsp;=&nbsp;[],</div></div><div class=\"424713ee-d0a3-40a3-9af8-1f7d507bd06c\" style=\"display: none;\"><div style=\"display: table-cell;\"></div><div style=\"display: table-cell;\">visible&nbsp;=&nbsp;True,</div></div><div class=\"424713ee-d0a3-40a3-9af8-1f7d507bd06c\" style=\"display: none;\"><div style=\"display: table-cell;\"></div><div style=\"display: table-cell;\">x_range_name&nbsp;=&nbsp;'default',</div></div><div class=\"424713ee-d0a3-40a3-9af8-1f7d507bd06c\" style=\"display: none;\"><div style=\"display: table-cell;\"></div><div style=\"display: table-cell;\">y_range_name&nbsp;=&nbsp;'default')</div></div></div>\n",
       "<script>\n",
       "(function() {\n",
       "  var expanded = false;\n",
       "  var ellipsis = document.getElementById(\"778a41ef-00ed-448f-b08d-58f7311f0060\");\n",
       "  ellipsis.addEventListener(\"click\", function() {\n",
       "    var rows = document.getElementsByClassName(\"424713ee-d0a3-40a3-9af8-1f7d507bd06c\");\n",
       "    for (var i = 0; i < rows.length; i++) {\n",
       "      var el = rows[i];\n",
       "      el.style.display = expanded ? \"none\" : \"table-row\";\n",
       "    }\n",
       "    ellipsis.innerHTML = expanded ? \"&hellip;)\" : \"&lsaquo;&lsaquo;&lsaquo;\";\n",
       "    expanded = !expanded;\n",
       "  });\n",
       "})();\n",
       "</script>\n"
      ],
      "text/plain": [
       "GlyphRenderer(id='cfd2c0dd-cee7-4ef5-ba01-4775753976be', ...)"
      ]
     },
     "execution_count": 134,
     "metadata": {},
     "output_type": "execute_result"
    }
   ],
   "source": [
    "p.circle('x','y',size=5,source=source,alpha=0.6)"
   ]
  },
  {
   "cell_type": "code",
   "execution_count": 135,
   "metadata": {
    "collapsed": true
   },
   "outputs": [],
   "source": [
    "p.add_layout(label_set)"
   ]
  },
  {
   "cell_type": "code",
   "execution_count": 136,
   "metadata": {
    "collapsed": true
   },
   "outputs": [],
   "source": [
    "show(p)"
   ]
  },
  {
   "cell_type": "markdown",
   "metadata": {},
   "source": [
    "## Working in the Notebook\n",
    "\n",
    "http://bokeh.pydata.org/en/latest/docs/user_guide/notebook.html"
   ]
  },
  {
   "cell_type": "code",
   "execution_count": 138,
   "metadata": {
    "collapsed": true
   },
   "outputs": [],
   "source": [
    "from bokeh.io import push_notebook, show, output_notebook\n",
    "from bokeh.layouts import row"
   ]
  },
  {
   "cell_type": "code",
   "execution_count": 139,
   "metadata": {
    "collapsed": false
   },
   "outputs": [
    {
     "data": {
      "text/html": [
       "\n",
       "    <div class=\"bk-root\">\n",
       "        <a href=\"http://bokeh.pydata.org\" target=\"_blank\" class=\"bk-logo bk-logo-small bk-logo-notebook\"></a>\n",
       "        <span id=\"5fbc981e-e325-4586-b54c-9fd14b35aa5f\">Loading BokehJS ...</span>\n",
       "    </div>"
      ]
     },
     "metadata": {},
     "output_type": "display_data"
    },
    {
     "data": {
      "application/javascript": [
       "\n",
       "(function(global) {\n",
       "  function now() {\n",
       "    return new Date();\n",
       "  }\n",
       "\n",
       "  var force = true;\n",
       "\n",
       "  if (typeof (window._bokeh_onload_callbacks) === \"undefined\" || force === true) {\n",
       "    window._bokeh_onload_callbacks = [];\n",
       "    window._bokeh_is_loading = undefined;\n",
       "  }\n",
       "\n",
       "\n",
       "  \n",
       "  if (typeof (window._bokeh_timeout) === \"undefined\" || force === true) {\n",
       "    window._bokeh_timeout = Date.now() + 5000;\n",
       "    window._bokeh_failed_load = false;\n",
       "  }\n",
       "\n",
       "  var NB_LOAD_WARNING = {'data': {'text/html':\n",
       "     \"<div style='background-color: #fdd'>\\n\"+\n",
       "     \"<p>\\n\"+\n",
       "     \"BokehJS does not appear to have successfully loaded. If loading BokehJS from CDN, this \\n\"+\n",
       "     \"may be due to a slow or bad network connection. Possible fixes:\\n\"+\n",
       "     \"</p>\\n\"+\n",
       "     \"<ul>\\n\"+\n",
       "     \"<li>re-rerun `output_notebook()` to attempt to load from CDN again, or</li>\\n\"+\n",
       "     \"<li>use INLINE resources instead, as so:</li>\\n\"+\n",
       "     \"</ul>\\n\"+\n",
       "     \"<code>\\n\"+\n",
       "     \"from bokeh.resources import INLINE\\n\"+\n",
       "     \"output_notebook(resources=INLINE)\\n\"+\n",
       "     \"</code>\\n\"+\n",
       "     \"</div>\"}};\n",
       "\n",
       "  function display_loaded() {\n",
       "    if (window.Bokeh !== undefined) {\n",
       "      var el = document.getElementById(\"5fbc981e-e325-4586-b54c-9fd14b35aa5f\");\n",
       "      el.textContent = \"BokehJS \" + Bokeh.version + \" successfully loaded.\";\n",
       "    } else if (Date.now() < window._bokeh_timeout) {\n",
       "      setTimeout(display_loaded, 100)\n",
       "    }\n",
       "  }\n",
       "\n",
       "  function run_callbacks() {\n",
       "    window._bokeh_onload_callbacks.forEach(function(callback) { callback() });\n",
       "    delete window._bokeh_onload_callbacks\n",
       "    console.info(\"Bokeh: all callbacks have finished\");\n",
       "  }\n",
       "\n",
       "  function load_libs(js_urls, callback) {\n",
       "    window._bokeh_onload_callbacks.push(callback);\n",
       "    if (window._bokeh_is_loading > 0) {\n",
       "      console.log(\"Bokeh: BokehJS is being loaded, scheduling callback at\", now());\n",
       "      return null;\n",
       "    }\n",
       "    if (js_urls == null || js_urls.length === 0) {\n",
       "      run_callbacks();\n",
       "      return null;\n",
       "    }\n",
       "    console.log(\"Bokeh: BokehJS not loaded, scheduling load and callback at\", now());\n",
       "    window._bokeh_is_loading = js_urls.length;\n",
       "    for (var i = 0; i < js_urls.length; i++) {\n",
       "      var url = js_urls[i];\n",
       "      var s = document.createElement('script');\n",
       "      s.src = url;\n",
       "      s.async = false;\n",
       "      s.onreadystatechange = s.onload = function() {\n",
       "        window._bokeh_is_loading--;\n",
       "        if (window._bokeh_is_loading === 0) {\n",
       "          console.log(\"Bokeh: all BokehJS libraries loaded\");\n",
       "          run_callbacks()\n",
       "        }\n",
       "      };\n",
       "      s.onerror = function() {\n",
       "        console.warn(\"failed to load library \" + url);\n",
       "      };\n",
       "      console.log(\"Bokeh: injecting script tag for BokehJS library: \", url);\n",
       "      document.getElementsByTagName(\"head\")[0].appendChild(s);\n",
       "    }\n",
       "  };var element = document.getElementById(\"5fbc981e-e325-4586-b54c-9fd14b35aa5f\");\n",
       "  if (element == null) {\n",
       "    console.log(\"Bokeh: ERROR: autoload.js configured with elementid '5fbc981e-e325-4586-b54c-9fd14b35aa5f' but no matching script tag was found. \")\n",
       "    return false;\n",
       "  }\n",
       "\n",
       "  var js_urls = [\"https://cdn.pydata.org/bokeh/release/bokeh-0.12.5.min.js\", \"https://cdn.pydata.org/bokeh/release/bokeh-widgets-0.12.5.min.js\"];\n",
       "\n",
       "  var inline_js = [\n",
       "    function(Bokeh) {\n",
       "      Bokeh.set_log_level(\"info\");\n",
       "    },\n",
       "    \n",
       "    function(Bokeh) {\n",
       "      \n",
       "    },\n",
       "    \n",
       "    function(Bokeh) {\n",
       "      \n",
       "      document.getElementById(\"5fbc981e-e325-4586-b54c-9fd14b35aa5f\").textContent = \"BokehJS is loading...\";\n",
       "    },\n",
       "    function(Bokeh) {\n",
       "      console.log(\"Bokeh: injecting CSS: https://cdn.pydata.org/bokeh/release/bokeh-0.12.5.min.css\");\n",
       "      Bokeh.embed.inject_css(\"https://cdn.pydata.org/bokeh/release/bokeh-0.12.5.min.css\");\n",
       "      console.log(\"Bokeh: injecting CSS: https://cdn.pydata.org/bokeh/release/bokeh-widgets-0.12.5.min.css\");\n",
       "      Bokeh.embed.inject_css(\"https://cdn.pydata.org/bokeh/release/bokeh-widgets-0.12.5.min.css\");\n",
       "    }\n",
       "  ];\n",
       "\n",
       "  function run_inline_js() {\n",
       "    \n",
       "    if ((window.Bokeh !== undefined) || (force === true)) {\n",
       "      for (var i = 0; i < inline_js.length; i++) {\n",
       "        inline_js[i](window.Bokeh);\n",
       "      }if (force === true) {\n",
       "        display_loaded();\n",
       "      }} else if (Date.now() < window._bokeh_timeout) {\n",
       "      setTimeout(run_inline_js, 100);\n",
       "    } else if (!window._bokeh_failed_load) {\n",
       "      console.log(\"Bokeh: BokehJS failed to load within specified timeout.\");\n",
       "      window._bokeh_failed_load = true;\n",
       "    } else if (force !== true) {\n",
       "      var cell = $(document.getElementById(\"5fbc981e-e325-4586-b54c-9fd14b35aa5f\")).parents('.cell').data().cell;\n",
       "      cell.output_area.append_execute_result(NB_LOAD_WARNING)\n",
       "    }\n",
       "\n",
       "  }\n",
       "\n",
       "  if (window._bokeh_is_loading === 0) {\n",
       "    console.log(\"Bokeh: BokehJS loaded, going straight to plotting\");\n",
       "    run_inline_js();\n",
       "  } else {\n",
       "    load_libs(js_urls, function() {\n",
       "      console.log(\"Bokeh: BokehJS plotting callback run at\", now());\n",
       "      run_inline_js();\n",
       "    });\n",
       "  }\n",
       "}(this));"
      ]
     },
     "metadata": {},
     "output_type": "display_data"
    }
   ],
   "source": [
    "output_notebook()"
   ]
  },
  {
   "cell_type": "code",
   "execution_count": 140,
   "metadata": {
    "collapsed": false
   },
   "outputs": [
    {
     "data": {
      "text/html": [
       "\n",
       "\n",
       "    <div class=\"bk-root\">\n",
       "        <div class=\"bk-plotdiv\" id=\"7df1b867-f8ce-4f22-a418-fc5eef44db49\"></div>\n",
       "    </div>\n",
       "<script type=\"text/javascript\">\n",
       "  \n",
       "  (function(global) {\n",
       "    function now() {\n",
       "      return new Date();\n",
       "    }\n",
       "  \n",
       "    var force = false;\n",
       "  \n",
       "    if (typeof (window._bokeh_onload_callbacks) === \"undefined\" || force === true) {\n",
       "      window._bokeh_onload_callbacks = [];\n",
       "      window._bokeh_is_loading = undefined;\n",
       "    }\n",
       "  \n",
       "  \n",
       "    \n",
       "    if (typeof (window._bokeh_timeout) === \"undefined\" || force === true) {\n",
       "      window._bokeh_timeout = Date.now() + 0;\n",
       "      window._bokeh_failed_load = false;\n",
       "    }\n",
       "  \n",
       "    var NB_LOAD_WARNING = {'data': {'text/html':\n",
       "       \"<div style='background-color: #fdd'>\\n\"+\n",
       "       \"<p>\\n\"+\n",
       "       \"BokehJS does not appear to have successfully loaded. If loading BokehJS from CDN, this \\n\"+\n",
       "       \"may be due to a slow or bad network connection. Possible fixes:\\n\"+\n",
       "       \"</p>\\n\"+\n",
       "       \"<ul>\\n\"+\n",
       "       \"<li>re-rerun `output_notebook()` to attempt to load from CDN again, or</li>\\n\"+\n",
       "       \"<li>use INLINE resources instead, as so:</li>\\n\"+\n",
       "       \"</ul>\\n\"+\n",
       "       \"<code>\\n\"+\n",
       "       \"from bokeh.resources import INLINE\\n\"+\n",
       "       \"output_notebook(resources=INLINE)\\n\"+\n",
       "       \"</code>\\n\"+\n",
       "       \"</div>\"}};\n",
       "  \n",
       "    function display_loaded() {\n",
       "      if (window.Bokeh !== undefined) {\n",
       "        var el = document.getElementById(\"7df1b867-f8ce-4f22-a418-fc5eef44db49\");\n",
       "        el.textContent = \"BokehJS \" + Bokeh.version + \" successfully loaded.\";\n",
       "      } else if (Date.now() < window._bokeh_timeout) {\n",
       "        setTimeout(display_loaded, 100)\n",
       "      }\n",
       "    }\n",
       "  \n",
       "    function run_callbacks() {\n",
       "      window._bokeh_onload_callbacks.forEach(function(callback) { callback() });\n",
       "      delete window._bokeh_onload_callbacks\n",
       "      console.info(\"Bokeh: all callbacks have finished\");\n",
       "    }\n",
       "  \n",
       "    function load_libs(js_urls, callback) {\n",
       "      window._bokeh_onload_callbacks.push(callback);\n",
       "      if (window._bokeh_is_loading > 0) {\n",
       "        console.log(\"Bokeh: BokehJS is being loaded, scheduling callback at\", now());\n",
       "        return null;\n",
       "      }\n",
       "      if (js_urls == null || js_urls.length === 0) {\n",
       "        run_callbacks();\n",
       "        return null;\n",
       "      }\n",
       "      console.log(\"Bokeh: BokehJS not loaded, scheduling load and callback at\", now());\n",
       "      window._bokeh_is_loading = js_urls.length;\n",
       "      for (var i = 0; i < js_urls.length; i++) {\n",
       "        var url = js_urls[i];\n",
       "        var s = document.createElement('script');\n",
       "        s.src = url;\n",
       "        s.async = false;\n",
       "        s.onreadystatechange = s.onload = function() {\n",
       "          window._bokeh_is_loading--;\n",
       "          if (window._bokeh_is_loading === 0) {\n",
       "            console.log(\"Bokeh: all BokehJS libraries loaded\");\n",
       "            run_callbacks()\n",
       "          }\n",
       "        };\n",
       "        s.onerror = function() {\n",
       "          console.warn(\"failed to load library \" + url);\n",
       "        };\n",
       "        console.log(\"Bokeh: injecting script tag for BokehJS library: \", url);\n",
       "        document.getElementsByTagName(\"head\")[0].appendChild(s);\n",
       "      }\n",
       "    };var element = document.getElementById(\"7df1b867-f8ce-4f22-a418-fc5eef44db49\");\n",
       "    if (element == null) {\n",
       "      console.log(\"Bokeh: ERROR: autoload.js configured with elementid '7df1b867-f8ce-4f22-a418-fc5eef44db49' but no matching script tag was found. \")\n",
       "      return false;\n",
       "    }\n",
       "  \n",
       "    var js_urls = [];\n",
       "  \n",
       "    var inline_js = [\n",
       "      function(Bokeh) {\n",
       "        (function() {\n",
       "          var fn = function() {\n",
       "            var docs_json = {\"4be73322-c134-4ac9-8b33-0e35cecc551d\":{\"roots\":{\"references\":[{\"attributes\":{\"plot\":{\"id\":\"d5b418c4-537c-4985-92f7-42a76ba45e47\",\"subtype\":\"Figure\",\"type\":\"Plot\"},\"source\":{\"id\":\"77132b50-e69c-425c-bc16-2fbd307c07c4\",\"type\":\"ColumnDataSource\"},\"text\":{\"field\":\"word\"},\"x\":{\"field\":\"x\"},\"y\":{\"field\":\"y\"}},\"id\":\"14180558-bace-404e-acac-5399e4d8de44\",\"type\":\"LabelSet\"},{\"attributes\":{},\"id\":\"b92183bf-7184-4906-a005-88e154f48fbd\",\"type\":\"BasicTickFormatter\"},{\"attributes\":{\"fill_alpha\":{\"value\":0.1},\"fill_color\":{\"value\":\"#1f77b4\"},\"line_alpha\":{\"value\":0.1},\"line_color\":{\"value\":\"#1f77b4\"},\"size\":{\"units\":\"screen\",\"value\":5},\"x\":{\"field\":\"x\"},\"y\":{\"field\":\"y\"}},\"id\":\"00647ac9-d125-4dfc-83be-7be1f72ec633\",\"type\":\"Circle\"},{\"attributes\":{},\"id\":\"fde66500-1a8d-4bb8-9dc2-440907152400\",\"type\":\"BasicTicker\"},{\"attributes\":{\"formatter\":{\"id\":\"d206f03b-cea6-4023-8299-e26cefa133ad\",\"type\":\"BasicTickFormatter\"},\"plot\":{\"id\":\"d5b418c4-537c-4985-92f7-42a76ba45e47\",\"subtype\":\"Figure\",\"type\":\"Plot\"},\"ticker\":{\"id\":\"20cb2c48-0691-414e-9f1b-1ce934821a05\",\"type\":\"BasicTicker\"}},\"id\":\"336bdba4-6596-4a58-aa5d-2374232c1cc7\",\"type\":\"LinearAxis\"},{\"attributes\":{\"overlay\":{\"id\":\"42cffa7d-23b1-49a0-b7b8-94706b41262d\",\"type\":\"BoxAnnotation\"},\"plot\":{\"id\":\"d5b418c4-537c-4985-92f7-42a76ba45e47\",\"subtype\":\"Figure\",\"type\":\"Plot\"}},\"id\":\"8b07b932-e441-4802-a9a3-16d39f15de7a\",\"type\":\"BoxZoomTool\"},{\"attributes\":{\"formatter\":{\"id\":\"b92183bf-7184-4906-a005-88e154f48fbd\",\"type\":\"BasicTickFormatter\"},\"plot\":{\"id\":\"d5b418c4-537c-4985-92f7-42a76ba45e47\",\"subtype\":\"Figure\",\"type\":\"Plot\"},\"ticker\":{\"id\":\"fde66500-1a8d-4bb8-9dc2-440907152400\",\"type\":\"BasicTicker\"}},\"id\":\"6049c571-b602-4369-afde-20c9bc1a8508\",\"type\":\"LinearAxis\"},{\"attributes\":{\"plot\":{\"id\":\"d5b418c4-537c-4985-92f7-42a76ba45e47\",\"subtype\":\"Figure\",\"type\":\"Plot\"}},\"id\":\"4673881e-8d25-448f-9326-b06235c9346c\",\"type\":\"ResetTool\"},{\"attributes\":{},\"id\":\"d206f03b-cea6-4023-8299-e26cefa133ad\",\"type\":\"BasicTickFormatter\"},{\"attributes\":{\"bottom_units\":\"screen\",\"fill_alpha\":{\"value\":0.5},\"fill_color\":{\"value\":\"lightgrey\"},\"left_units\":\"screen\",\"level\":\"overlay\",\"line_alpha\":{\"value\":1.0},\"line_color\":{\"value\":\"black\"},\"line_dash\":[4,4],\"line_width\":{\"value\":2},\"plot\":null,\"render_mode\":\"css\",\"right_units\":\"screen\",\"top_units\":\"screen\"},\"id\":\"42cffa7d-23b1-49a0-b7b8-94706b41262d\",\"type\":\"BoxAnnotation\"},{\"attributes\":{\"dimension\":1,\"plot\":{\"id\":\"d5b418c4-537c-4985-92f7-42a76ba45e47\",\"subtype\":\"Figure\",\"type\":\"Plot\"},\"ticker\":{\"id\":\"fde66500-1a8d-4bb8-9dc2-440907152400\",\"type\":\"BasicTicker\"}},\"id\":\"e1b8dcb1-5702-4ed1-9d19-74cc6659a2d7\",\"type\":\"Grid\"},{\"attributes\":{},\"id\":\"2540efb0-88cc-4e52-b6fa-3af5730b147c\",\"type\":\"ToolEvents\"},{\"attributes\":{\"data_source\":{\"id\":\"77132b50-e69c-425c-bc16-2fbd307c07c4\",\"type\":\"ColumnDataSource\"},\"glyph\":{\"id\":\"5c990f76-e7bd-4097-a690-86984da4d38b\",\"type\":\"Circle\"},\"hover_glyph\":null,\"muted_glyph\":null,\"nonselection_glyph\":{\"id\":\"00647ac9-d125-4dfc-83be-7be1f72ec633\",\"type\":\"Circle\"},\"selection_glyph\":null},\"id\":\"cfd2c0dd-cee7-4ef5-ba01-4775753976be\",\"type\":\"GlyphRenderer\"},{\"attributes\":{\"active_drag\":\"auto\",\"active_scroll\":\"auto\",\"active_tap\":\"auto\",\"tools\":[{\"id\":\"66d96849-ebf9-4154-a1bf-e9153f26b0c7\",\"type\":\"PanTool\"},{\"id\":\"ca75b494-71de-4e33-bda0-a604a4093cd9\",\"type\":\"WheelZoomTool\"},{\"id\":\"8b07b932-e441-4802-a9a3-16d39f15de7a\",\"type\":\"BoxZoomTool\"},{\"id\":\"4673881e-8d25-448f-9326-b06235c9346c\",\"type\":\"ResetTool\"},{\"id\":\"395015f1-46ad-48d0-aca6-9d244b34b70b\",\"type\":\"ResizeTool\"}]},\"id\":\"b8d4ec92-9c56-4ff0-8e1f-e434184c549e\",\"type\":\"Toolbar\"},{\"attributes\":{},\"id\":\"20cb2c48-0691-414e-9f1b-1ce934821a05\",\"type\":\"BasicTicker\"},{\"attributes\":{\"callback\":null},\"id\":\"9301790d-84e5-4c77-b160-2decba392d02\",\"type\":\"DataRange1d\"},{\"attributes\":{\"fill_alpha\":{\"value\":0.6},\"fill_color\":{\"value\":\"#1f77b4\"},\"line_alpha\":{\"value\":0.6},\"line_color\":{\"value\":\"#1f77b4\"},\"size\":{\"units\":\"screen\",\"value\":5},\"x\":{\"field\":\"x\"},\"y\":{\"field\":\"y\"}},\"id\":\"5c990f76-e7bd-4097-a690-86984da4d38b\",\"type\":\"Circle\"},{\"attributes\":{\"callback\":null},\"id\":\"85163338-4afe-41a9-88c9-8a2cb5ffb65a\",\"type\":\"DataRange1d\"},{\"attributes\":{\"callback\":null,\"column_names\":[\"word\",\"x\",\"y\"],\"data\":{\"word\":[\"./Punctuation\",\"\\ud558\\ub2e4/Verb\",\"\\uac00/Josa\",\"\\uc774/Josa\",\"\\ubc15/Noun\",\"\\uc744/Josa\",\",/Punctuation\",\"\\ub294/Josa\",\"\\ub97c/Josa\",\"\\\"/Punctuation\",\"\\ub180\\ubd80/Noun\",\"\\uc81c\\ube44/Noun\",\"\\ud765/Noun\",\"\\ubd88\\ub2e4/Verb\",\"\\uc640/Josa\",\"\\ucf1c\\ub2e4/Verb\",\"\\uc5d0/Josa\",\"\\ub098\\uc624\\ub2e4/Verb\",\".\\\"/Punctuation\",\"\\uc73c\\ub85c/Josa\",\"\\uc740/Josa\",\"\\uc774/Noun\",\"!\\\"/Punctuation\",\"\\uc528/Noun\",\"\\uc8fc\\ub2e4/Verb\",\"\\uc544\\ub0b4/Noun\",\"\\uc9d1/Noun\",\"\\ub418\\ub2e4/Verb\",\"\\ud558\\ub098/Noun\",\"\\ub4e4/Suffix\",\"\\uc624\\ub2e4/Verb\",\"\\ub3c4/Josa\",\"\\ub188/Noun\",\"\\ud765\\ubd80/Noun\",\"\\ubcf4\\ud654/Noun\",\"\\uac19\\ub2e4/Adjective\",\"\\ud06c\\ub2e4/Verb\",\"!/Punctuation\",\"?\\\"/Punctuation\",\"\\ub2e4\\ub9ac/Noun\",\"\\uac08\\ub77c\\uc9c0\\ub2e4/Adjective\",\"\\uc788\\ub2e4/Adjective\",\"\\uac83/Noun\",\"\\uac00\\ub2e4/Verb\",\"\\uc0b4\\ub2e4/Verb\",\"\\uae08\\uc740/Noun\",\"\\uca4d/Noun\",\"\\uc2dc\\uc791/Noun\",\"\\uace0/Josa\",\"\\ub3cc\\ub2e4/Verb\",\"\\uc900/Noun\",\"\\ud574/Noun\",\"\\ubcd1/Noun\",\"\\uc544/Josa\",\"\\uac8c/Josa\",\"\\uadf8\\ub9ac\\uace0/Conjunction\",\"\\ud1b1\\uc9c8/Noun\",\"\\uc18d/Noun\",\"\\ud638\\ub9ac/Noun\",\"\\uacfc/Josa\",\"\\ub465\\uc9c0/Noun\",\"\\ub9d0/Noun\",\"\\ub2e4/Josa\",\"\\ub3c8/Noun\",\"\\ud328\\ubb3c/Noun\",\"\\ubd80\\uc790/Noun\",\"?/Punctuation\",\"\\uac00\\uc744/Noun\",\"\\uc695\\uc2ec/Noun\",\"\\ubd04/Noun\",\"\\ub5a8\\uc5b4\\uc9c0\\ub2e4/Verb\",\"\\uc544\\uae30/Noun\",\"\\ud568\\uaed8/Adverb\",\"\\ub450/Noun\",\"\\uc5b4\\ud5d8/Noun\",\"\\ub9c8\\ub9ac/Noun\",\"\\ubc14\\uce58\\ub2e4/Verb\",\"\\uc774/Determiner\",\"\\ubd80\\ub974\\ub2e4/Verb\",\"\\ucc28\\ub2e4/Verb\",\"\\ub3cc\\uc544\\uc624\\ub2e4/Verb\",\"\\uc5d0\\uac8c/Josa\",\"\\uc758/Josa\",\"\\uc785/Noun\",\"\\ub0a0/Noun\",\"\\uc544\\uc774/Noun\",\"\\uc57c/Josa\",\"\\ub0a8\\ucabd/Noun\",\"\\uae30\\ub2e4\\ub9ac\\ub2e4/Verb\",\"\\ubd80\\ub7ec\\uc9c0\\ub2e4/Verb\",\"\\ucad2\\ub2e4/Verb\",\"\\uc369/Noun\",\"\\uadf8/Noun\",\"\\ub369\\uad74/Noun\",\"\\uaf2d/Noun\",\"\\ub098\\ud0c0\\ub098\\ub2e4/Verb\",\"\\ubc84\\ub9ac\\ub2e4/Verb\",\"\\uc61b\\ub0a0/Noun\",\"\\ub0b4\\uc678/Noun\",\"\\ub418\\uc5b4\\ub2e4/Verb\",\"\\uadf8\\ub7f0\\ub370/Conjunction\",\"\\uc3df\\uc544\\uc9c0\\ub2e4/Verb\",\"\\uc774\\ub2e4/Adjective\",\"\\ubc14\\uac00\\uc9c0/Noun\",\"\\uc5d0\\uc11c/Josa\",\"\\uac8c\\uc73c\\ub984\\ubc45\\uc774/Noun\",\"\\uc7c1\\uc774/Suffix\",\"\\ub450\\ub974\\ub2e4/Verb\",\"\\uc2ec\\ub2e4/Verb\",\"\\uc5f4\\uc2ec\\ud788/Adverb\",\"\\uc6ec\\uc77c/Noun\",\"\\ud615\\ub2d8/Noun\",\"\\ub2e4\\ub2c8\\ub2e4/Verb\",\"\\ucc9c\\ubc8c/Noun\",\"\\ub3c4\\uae68\\ube44/Noun\",\"\\ubed7\\ub2e4/Verb\",\"\\ub108/Noun\",\"\\uc774\\uc81c/Noun\",\"\\uc8fc\\ub801\\uc8fc\\ub801/Noun\",\"\\uc62c\\ub9ac\\ub2e4/Verb\",\"\\ub610/Noun\",\"\\uc5d0\\ub294/Josa\",\"\\uc774\\ubc88/Noun\",\"\\ub5a8\\uc5b4\\ub728\\ub9ac\\ub2e4/Verb\",\"\\ub2c8\\uae4c/Josa\",\"\\uc778/Josa\",\"\\uadf8\\ub807\\ub2e4/Adjective\",\"\\uc54a\\ub2e4/Verb\",\"\\ucee4\\ub2e4\\ub797\\ub2e4/Adjective\",\"\\ub4e4\\ub2e4/Verb\",\"\\ud718/Noun\",\"\\ud615/Noun\",\"\\ubaa8\\ub450/Noun\",\"\\uc18c\\ub9ac/Noun\",\"\\uc77c/Noun\",\"\\uc548/Noun\",\"\\ub2e4\\uc2dc/Noun\",\"\\ubd80\\uc640/Noun\",\"\\uc120\\ub140/Noun\",\"\\uace7/Noun\",\"\\ubabd\\ub545/Noun\",\"\\uc774\\ub2e4/Verb\",\"\\uad6c\\ub801\\uc774/Noun\",\"\\uc9c0\\ub2e4/Verb\",\"\\ub2e4\\ub978/Noun\",\"\\ubc8c\\ubc8c/Noun\",\"\\uaca8\\uc6b8/Noun\",\"\\uc553\\ub2e4/Verb\",\"\\ucc28\\uc9c0/Noun\",\"\\uaca8/Noun\",\"\\uace8/Noun\",\"\\uc0dd\\uac01/Noun\",\"\\ub2e4\\uce58\\ub2e4/Verb\",\"\\uba39\\ub2e4/Verb\",\"\\uad6c\\uac78/Noun\",\"\\ubb36\\ub2e4/Verb\",\"\\uae40\\uce58/Noun\",\"\\ud638\\ud1b5/Noun\",\"\\uad73\\ub2e4/Adjective\",\"\\ub4a4\\uacc1/Noun\",\"\\ub450\\uaecd\\ub2e4/Adjective\",\"\\ubca0/Noun\",\"\\uad73\\uae30/Noun\",\"\\ubb3c/Noun\",\"\\uc9c0\\ub098\\ub2e4/Verb\",\"\\ub54c\\ub9ac\\ub2e4/Verb\",\"\\ub4e4\\ub9ac\\ub2e4/Verb\",\"\\ud574/Josa\",\"\\ub3d9/Noun\",\"\\ubb34\\ub2f9/Noun\",\"\\ubc1b\\ub2e4/Verb\",\"\\uac1a\\ub2e4/Verb\",\"\\uc73c\\ub85c\\ub294/Josa\",\"\\uac70/Noun\",\"\\ub300\\uad90/Noun\",\"\\uc300/Noun\",\"\\uc5d0\\ub3c4/Josa\",\"\\ubc18\\uae30\\ub2e4/Verb\",\"\\uac00\\uc6b4\\ub370/Noun\",\"\\uc0b0\\ub354\\ubbf8/Noun\",\"\\ub36e\\ub2e4/Verb\",\"\\uae08\\ub098\\uc640\\ub77c/Noun\",\"\\ub17c/Noun\",\"\\uace0\\uc774/Noun\",\"\\uadf8\\uac83/Noun\",\"\\ub9cc\\ub4e4\\ub2e4/Verb\",\"\\uc5b4\\ub290/Adverb\",\"\\uc190/Noun\",\"\\ud574\\uc11c/Josa\",\"\\ubb3c\\uc5b4/Noun\",\"\\uc790\\ub2e4/Verb\",\"\\ub9cc\\ub4ed\\uc2dc/Noun\",\"\\ub2f4\\ubc43\\ub300/Noun\",\"\\ub530\\ub2e4/Verb\",\"\\ub77c\\uc11c/Josa\",\"\\ub2f4\\uadf8\\ub2e4/Verb\",\"\\ub124/Noun\",\"\\ucd94\\ub2e4/Verb\",\"\\uc6d0/Noun\",\"\\uc2ac\\uae08\\uc2ac\\uae08/Noun\",\"\\uc5b4\\uca4c\\ub2e4/Verb\",\"\\uc0ac\\uc774\\uc88b\\ub2e4/Adjective\",\"\\uace0\\uc580/Noun\",\"\\ubabb/Noun\",\"\\uc9c0\\ub0b4\\ub2e4/Verb\",\"\\ubcf4\\ub2e4/Josa\",\"\\uc2e4\\ub85c/Noun\",\"\\ucc29\\ud558\\ub2e4/Adjective\",\"\\uc790\\ub77c\\ub098\\ub2e4/Verb\",\"\\ubcf4\\ub2e4/Verb\",\"\\ud391/Noun\",\"\\ub123\\ub2e4/Verb\",\"\\uc9c0\\ub09c\\ud574/Noun\",\"\\uae68\\ub2eb\\ub2e4/Verb\",\"\\uc740/Noun\",\"\\uce6d\\uce6d/Noun\",\"\\ubd80\\ubd80/Noun\",\"\\uac00\\ub09c\\ubc45\\uc774/Noun\",\"\\ub2d8/Suffix\",\"\\uc628/Noun\",\"\\uc218/Noun\",\"\\uc790\\uc138\\ud558\\ub2e4/Adjective\",\"\\ud765\\ubd80\\uac00/Noun\",\"\\uac00\\ub09c\\ud558\\ub2e4/Adjective\",\"\\ucc3e\\uc544\\uac00\\ub2e4/Verb\",\"\\uc549\\ub2e4/Verb\",\"\\ubb3c\\ub2e4/Verb\",\"\\ud2b8/Noun\",\"\\uc2e4\\ucef7/Noun\",\"\\ub4e0\\uc9c0/Josa\",\"\\uac1c/Noun\",\"\\uc2e0\\ub839/Noun\",\"\\uc800/Noun\",\"\\uc904\\ub2e4/Verb\",\"\\ub098\\uac00\\ub2e4/Verb\",\"\\uae30\\uc655/Noun\",\"\\ud55c\\uc228/Noun\",\"\\uc88b\\ub2e4/Adjective\",\"\\uc798\\ubabb/Noun\",\"\\ube8f\\ub2e4/Verb\",\"\\ucda4/Noun\",\"\\ub69d/Noun\",\"\\ub2ec\\ub9ac\\ub2e4/Verb\",\"\\ucca0/Noun\",\"\\uc640/Noun\",\"\\uc5ec/Josa\",\"\\uac00\\uc7a5/Noun\",\"\\ud6d9\\ubd80/Noun\",\"\\uc800\\ud76c/Noun\",\"\\ud22d/Noun\",\"\\uc544\\ubb34\\ub807\\ub2e4/Adjective\",\"\\uccd0\\ub2e4\\ubcf4\\ub2e4/Verb\",\"\\uce7c/Noun\",\"\\uc5b4\\ud5c8\\ud5c8/Adverb\",\"\\uc2e4/Noun\",\"\\ub3c4/Noun\",\"\\ubc29\\ub9dd\\uc774/Noun\",\"\\ub85c\\ub294/Josa\",\"\\uac8c/Noun\",\"\\ud6e8\\ud6e8/Noun\",\"\\ubc18\\uac11\\ub2e4/Adjective\",\"\\uc880/Noun\",\"\\uc78e/Noun\",\"\\ub124/Suffix\",\"\\ubd80\\uc778/Noun\",\"\\uc601\\uac10/Noun\",\"\\uc544\\ub2c8\\ub2e4/Adjective\",\"\\uc5b4\\ub5bb\\ub2e4/Adjective\",\"\\uc774\\ub807\\uac8c/Adverb\",\"\\uaecd\\ub370\\uae30/Noun\",\"\\ubb34\\ub7ed\\ubb34\\ub7ed/Noun\",\"\\ub098\\uc544\\uc9c0\\ub2e4/Verb\",\"\\uae30\\ub2e4/Verb\",\"\\uce58\\ub2e4/Verb\",\"\\uae09\\ud558\\ub2e4/Adjective\",\"\\uac78/Noun\",\"\\ub3fc\\ub2e4/Verb\",\"\\uc774\\ub098/Josa\",\"\\ud5c8\\ub2e4/Verb\",\"\\uc5c6\\uc774/Adverb\",\"\\uaed8/Josa\",\"\\uafb8\\ub2e4/Verb\",\"\\uad76\\ub2e4/Verb\",\"\\ub0b4\\ub2e4/Verb\",\"\\uc8fc\\uc9c0/Noun\",\"\\ub370\\ub9ac\\ub2e4/Verb\",\"\\uc544\\ubb34\\ub9ac/Adverb\",\"\\uc5b4\\uc774\\uad6c/Noun\",\"\\uc0b4\\ub9bc/Noun\",\"\\uac71\\uc815/Noun\",\"\\ub354/Noun\",\"\\ub0b4\\ub144/Noun\",\"\\ub728\\ub2e4/Verb\",\"\\ub9c8\\uc744/Noun\",\"\\uace0/Noun\",\"\\uc774\\uc57c\\uae30/Noun\",\"\\uba74/Noun\",\"\\uc694\\uc220/Noun\",\"\\ubd80\\uc758/Noun\",\"\\uc0ac\\uc2e4/Noun\",\"\\uc544\\uc6b0/Noun\",\"\\ub5a8\\ub2e4/Verb\",\"\\uc815\\uc131\\uaecf/Noun\",\"\\uc2dc\\ub044\\ub7fd\\ub2e4/Adjective\",\"\\uc2f9/Noun\",\"\\uac19\\uc774/Josa\",\"\\uac11\\uc790\\uae30/Noun\",\"\\uc0ac\\uc815\\uc5c6\\uc774/Adverb\",\"\\ub9d0\\ub2e4/Verb\",\"\\uc5d0\\uc774/Noun\",\"\\ub300\\ub85c/Josa\",\"\\ub85c/Josa\",\"\\ucbe4/Suffix\",\"\\uc5bc\\ub978/Noun\",\"\\ub9ce\\ub2e4/Adjective\",\"\\ub4dc\\ub9ac\\ub2e4/Verb\",\"\\ub9c8\\ub545\\ud558\\ub2e4/Adjective\",\"\\ubb50/Noun\",\"\\ub3d9\\uc0dd/Noun\",\"\\ud314\\ub9ac\\ub2e4/Verb\",\"\\ubb3c\\ub3d9\\uc774/Noun\",\"\\uba40\\ub2e4/Adjective\",\"\\ubabb/VerbPrefix\",\"\\ub4dc\\ub514\\uc5b4/Noun\",\"\\ub9e4/Noun\",\"\\uc7ac\\uc0b0/Noun\",\"\\uc544\\uc8fc/Noun\",\"\\ubb54\\uac00/Noun\",\"\\uc55e/Noun\",\"\\ub098\\ub2e4/Verb\",\"\\uc544\\ubc84\\uc9c0/Noun\",\"\\uc54c/Noun\",\"\\ub9d0\\uace0/Josa\",\"\\uc26c/Noun\",\"\\uae08\\uc138/Noun\",\"\\uacf1\\ub2e4/Adjective\",\"\\uc548\\uc808\\ubd80\\uc808/Adverb\",\"\\uc9d1\\ub3c4/Noun\",\"\\uc774\\uba74/Noun\",\"\\uad1c\\ucc2e\\ub2e4/Adjective\",\"\\ub098\\uc640\\ub77c/Noun\",\"\\uc721\\ubaa8/Noun\",\"\\uc554/Noun\",\"\\ud750\\ubb47\\ud558\\ub2e4/Adjective\",\"\\ubb34\\uc0ac\\ud558\\ub2e4/Adjective\",\"\\uc5d0\\uc11c\\ub294/Josa\",\"\\ub2e4\\uc74c/Noun\",\"\\uc904/Noun\",\"\\ubd80\\ub7ec/Noun\",\"\\ub9c8\\ub2f9/Noun\",\"\\uaebc\\ub0b4\\ub2e4/Verb\",\"\\ud06c\\uae30/Noun\",\"\\ub9cc/Josa\",\"\\uc5f4\\ub9ac\\ub2e4/Verb\",\"\\ub124/Josa\",\"\\ub0a0\\uc544\\uac00\\ub2e4/Verb\",\"\\ubb50\\ub77c\\ub2e4/Verb\",\"\\ub9de\\ub2e4/Verb\",\"\\ub4a4/Noun\",\"\\ucc3e\\ub2e4/Verb\",\"\\uc774\\ub807\\ub2e4/Adjective\",\"\\ud207\\ub9c8\\ub8e8/Noun\",\"\\ubaa8\\ub974\\ub2e4/Verb\",\"\\ubd80\\ub838\\uc2b5\\ub2c8/Noun\"],\"x\":{\"__ndarray__\":\"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\",\"dtype\":\"float64\",\"shape\":[364]},\"y\":{\"__ndarray__\":\"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\",\"dtype\":\"float64\",\"shape\":[364]}}},\"id\":\"77132b50-e69c-425c-bc16-2fbd307c07c4\",\"type\":\"ColumnDataSource\"},{\"attributes\":{\"plot\":null,\"text\":\"title\"},\"id\":\"e8ed1267-90c0-49e3-8855-8878b6fab2ff\",\"type\":\"Title\"},{\"attributes\":{\"plot\":{\"id\":\"d5b418c4-537c-4985-92f7-42a76ba45e47\",\"subtype\":\"Figure\",\"type\":\"Plot\"}},\"id\":\"66d96849-ebf9-4154-a1bf-e9153f26b0c7\",\"type\":\"PanTool\"},{\"attributes\":{\"below\":[{\"id\":\"336bdba4-6596-4a58-aa5d-2374232c1cc7\",\"type\":\"LinearAxis\"}],\"left\":[{\"id\":\"6049c571-b602-4369-afde-20c9bc1a8508\",\"type\":\"LinearAxis\"}],\"plot_height\":900,\"plot_width\":900,\"renderers\":[{\"id\":\"336bdba4-6596-4a58-aa5d-2374232c1cc7\",\"type\":\"LinearAxis\"},{\"id\":\"a33b005b-2c26-4a75-bcdd-677d868df783\",\"type\":\"Grid\"},{\"id\":\"6049c571-b602-4369-afde-20c9bc1a8508\",\"type\":\"LinearAxis\"},{\"id\":\"e1b8dcb1-5702-4ed1-9d19-74cc6659a2d7\",\"type\":\"Grid\"},{\"id\":\"42cffa7d-23b1-49a0-b7b8-94706b41262d\",\"type\":\"BoxAnnotation\"},{\"id\":\"cfd2c0dd-cee7-4ef5-ba01-4775753976be\",\"type\":\"GlyphRenderer\"},{\"id\":\"14180558-bace-404e-acac-5399e4d8de44\",\"type\":\"LabelSet\"}],\"title\":{\"id\":\"e8ed1267-90c0-49e3-8855-8878b6fab2ff\",\"type\":\"Title\"},\"tool_events\":{\"id\":\"2540efb0-88cc-4e52-b6fa-3af5730b147c\",\"type\":\"ToolEvents\"},\"toolbar\":{\"id\":\"b8d4ec92-9c56-4ff0-8e1f-e434184c549e\",\"type\":\"Toolbar\"},\"x_range\":{\"id\":\"9301790d-84e5-4c77-b160-2decba392d02\",\"type\":\"DataRange1d\"},\"y_range\":{\"id\":\"85163338-4afe-41a9-88c9-8a2cb5ffb65a\",\"type\":\"DataRange1d\"}},\"id\":\"d5b418c4-537c-4985-92f7-42a76ba45e47\",\"subtype\":\"Figure\",\"type\":\"Plot\"},{\"attributes\":{\"plot\":{\"id\":\"d5b418c4-537c-4985-92f7-42a76ba45e47\",\"subtype\":\"Figure\",\"type\":\"Plot\"}},\"id\":\"ca75b494-71de-4e33-bda0-a604a4093cd9\",\"type\":\"WheelZoomTool\"},{\"attributes\":{\"plot\":{\"id\":\"d5b418c4-537c-4985-92f7-42a76ba45e47\",\"subtype\":\"Figure\",\"type\":\"Plot\"}},\"id\":\"395015f1-46ad-48d0-aca6-9d244b34b70b\",\"type\":\"ResizeTool\"},{\"attributes\":{\"plot\":{\"id\":\"d5b418c4-537c-4985-92f7-42a76ba45e47\",\"subtype\":\"Figure\",\"type\":\"Plot\"},\"ticker\":{\"id\":\"20cb2c48-0691-414e-9f1b-1ce934821a05\",\"type\":\"BasicTicker\"}},\"id\":\"a33b005b-2c26-4a75-bcdd-677d868df783\",\"type\":\"Grid\"}],\"root_ids\":[\"d5b418c4-537c-4985-92f7-42a76ba45e47\"]},\"title\":\"Bokeh Application\",\"version\":\"0.12.5\"}};\n",
       "            var render_items = [{\"docid\":\"4be73322-c134-4ac9-8b33-0e35cecc551d\",\"elementid\":\"7df1b867-f8ce-4f22-a418-fc5eef44db49\",\"modelid\":\"d5b418c4-537c-4985-92f7-42a76ba45e47\"}];\n",
       "            \n",
       "            Bokeh.embed.embed_items(docs_json, render_items);\n",
       "          };\n",
       "          if (document.readyState != \"loading\") fn();\n",
       "          else document.addEventListener(\"DOMContentLoaded\", fn);\n",
       "        })();\n",
       "      },\n",
       "      function(Bokeh) {\n",
       "      }\n",
       "    ];\n",
       "  \n",
       "    function run_inline_js() {\n",
       "      \n",
       "      if ((window.Bokeh !== undefined) || (force === true)) {\n",
       "        for (var i = 0; i < inline_js.length; i++) {\n",
       "          inline_js[i](window.Bokeh);\n",
       "        }if (force === true) {\n",
       "          display_loaded();\n",
       "        }} else if (Date.now() < window._bokeh_timeout) {\n",
       "        setTimeout(run_inline_js, 100);\n",
       "      } else if (!window._bokeh_failed_load) {\n",
       "        console.log(\"Bokeh: BokehJS failed to load within specified timeout.\");\n",
       "        window._bokeh_failed_load = true;\n",
       "      } else if (force !== true) {\n",
       "        var cell = $(document.getElementById(\"7df1b867-f8ce-4f22-a418-fc5eef44db49\")).parents('.cell').data().cell;\n",
       "        cell.output_area.append_execute_result(NB_LOAD_WARNING)\n",
       "      }\n",
       "  \n",
       "    }\n",
       "  \n",
       "    if (window._bokeh_is_loading === 0) {\n",
       "      console.log(\"Bokeh: BokehJS loaded, going straight to plotting\");\n",
       "      run_inline_js();\n",
       "    } else {\n",
       "      load_libs(js_urls, function() {\n",
       "        console.log(\"Bokeh: BokehJS plotting callback run at\", now());\n",
       "        run_inline_js();\n",
       "      });\n",
       "    }\n",
       "  }(this));\n",
       "</script>"
      ]
     },
     "metadata": {},
     "output_type": "display_data"
    }
   ],
   "source": [
    "show(p)"
   ]
  },
  {
   "cell_type": "code",
   "execution_count": null,
   "metadata": {
    "collapsed": true
   },
   "outputs": [],
   "source": []
  }
 ],
 "metadata": {
  "kernelspec": {
   "display_name": "Python 3",
   "language": "python",
   "name": "python3"
  },
  "language_info": {
   "codemirror_mode": {
    "name": "ipython",
    "version": 3
   },
   "file_extension": ".py",
   "mimetype": "text/x-python",
   "name": "python",
   "nbconvert_exporter": "python",
   "pygments_lexer": "ipython3",
   "version": "3.5.2"
  }
 },
 "nbformat": 4,
 "nbformat_minor": 2
}
