{
 "cells": [
  {
   "cell_type": "markdown",
   "metadata": {},
   "source": [
    "# bag of words를 이용한 문장 긍/부정 분류"
   ]
  },
  {
   "cell_type": "markdown",
   "metadata": {},
   "source": [
    "### bag of words\n",
    "- 단어의 분포로 문서를 판단하는 방법이다.\n",
    "- 그래서 많이 나오는 단어는 신경을 쓰지만 그렇다고 단어의 순서는 신경쓰지 않는다."
   ]
  },
  {
   "cell_type": "markdown",
   "metadata": {},
   "source": [
    "## TEXT CLASSIFICATION FOR SENTIMENT ANALYSIS – NAIVE BAYES CLASSIFIER\n",
    "http://streamhacker.com/2010/05/10/text-classification-sentiment-analysis-naive-bayes-classifier/"
   ]
  },
  {
   "cell_type": "code",
   "execution_count": 5,
   "metadata": {
    "collapsed": false,
    "scrolled": true
   },
   "outputs": [
    {
     "name": "stdout",
     "output_type": "stream",
     "text": [
      "train on  1500  instances, test on  500  instances\n",
      "accuracy: 0.728\n",
      "Most Informative Features\n",
      "             magnificent = True              pos : neg    =     15.0 : 1.0\n",
      "             outstanding = True              pos : neg    =     13.6 : 1.0\n",
      "               insulting = True              neg : pos    =     13.0 : 1.0\n",
      "              vulnerable = True              pos : neg    =     12.3 : 1.0\n",
      "               ludicrous = True              neg : pos    =     11.8 : 1.0\n",
      "                  avoids = True              pos : neg    =     11.7 : 1.0\n",
      "             uninvolving = True              neg : pos    =     11.7 : 1.0\n",
      "             fascination = True              pos : neg    =     10.3 : 1.0\n",
      "              astounding = True              pos : neg    =     10.3 : 1.0\n",
      "                 idiotic = True              neg : pos    =      9.8 : 1.0\n"
     ]
    }
   ],
   "source": [
    "import nltk.classify.util\n",
    "from nltk.classify import NaiveBayesClassifier\n",
    "from nltk.corpus import movie_reviews\n",
    " \n",
    "def word_feats(words):\n",
    "    return dict([(word, True) for word in words])\n",
    " \n",
    "negids = movie_reviews.fileids('neg')\n",
    "posids = movie_reviews.fileids('pos')\n",
    " \n",
    "negfeats = [(word_feats(movie_reviews.words(fileids=[f])), 'neg') for f in negids]\n",
    "posfeats = [(word_feats(movie_reviews.words(fileids=[f])), 'pos') for f in posids]\n",
    " \n",
    "negcutoff = len(negfeats)*3/4\n",
    "poscutoff = len(posfeats)*3/4\n",
    " \n",
    "#trainfeats = negfeats[:negcutoff] + posfeats[:poscutoff]\n",
    "#testfeats = negfeats[negcutoff:] + posfeats[poscutoff:]\n",
    "trainfeats = negfeats[:750] + posfeats[:750]\n",
    "testfeats = negfeats[750:] + posfeats[750:]\n",
    "print ('train on ', len(trainfeats), ' instances, test on ', len(testfeats), ' instances')\n",
    " \n",
    "classifier = NaiveBayesClassifier.train(trainfeats)\n",
    "print ('accuracy:', nltk.classify.util.accuracy(classifier, testfeats))\n",
    "classifier.show_most_informative_features()"
   ]
  },
  {
   "cell_type": "markdown",
   "metadata": {},
   "source": [
    "### (임의의) 문장으로 테스트를 해보고 싶다!!"
   ]
  },
  {
   "cell_type": "code",
   "execution_count": 6,
   "metadata": {
    "collapsed": false
   },
   "outputs": [
    {
     "data": {
      "text/plain": [
       "'neg'"
      ]
     },
     "execution_count": 6,
     "metadata": {},
     "output_type": "execute_result"
    }
   ],
   "source": [
    "test = 'the quick brown fox jumps over the lazy dog'\n",
    "classifier.classify(word_feats(test))"
   ]
  },
  {
   "cell_type": "code",
   "execution_count": 7,
   "metadata": {
    "collapsed": false
   },
   "outputs": [
    {
     "data": {
      "text/plain": [
       "'neg'"
      ]
     },
     "execution_count": 7,
     "metadata": {},
     "output_type": "execute_result"
    }
   ],
   "source": [
    "pos = 'outstanding fascination'\n",
    "classifier.classify(word_feats(pos))"
   ]
  },
  {
   "cell_type": "markdown",
   "metadata": {},
   "source": [
    "### 왜죠?"
   ]
  },
  {
   "cell_type": "code",
   "execution_count": 8,
   "metadata": {
    "collapsed": false
   },
   "outputs": [
    {
     "data": {
      "text/plain": [
       "{' ': True,\n",
       " 'a': True,\n",
       " 'c': True,\n",
       " 'd': True,\n",
       " 'f': True,\n",
       " 'g': True,\n",
       " 'i': True,\n",
       " 'n': True,\n",
       " 'o': True,\n",
       " 's': True,\n",
       " 't': True,\n",
       " 'u': True}"
      ]
     },
     "execution_count": 8,
     "metadata": {},
     "output_type": "execute_result"
    }
   ],
   "source": [
    "word_feats(pos)"
   ]
  },
  {
   "cell_type": "markdown",
   "metadata": {},
   "source": [
    "### 직접 dict 형태로 만들어보면 제대로 나올까?"
   ]
  },
  {
   "cell_type": "code",
   "execution_count": 9,
   "metadata": {
    "collapsed": false
   },
   "outputs": [
    {
     "data": {
      "text/plain": [
       "'pos'"
      ]
     },
     "execution_count": 9,
     "metadata": {},
     "output_type": "execute_result"
    }
   ],
   "source": [
    "pos = {'outstanding':True, 'fascination':True}\n",
    "classifier.classify(pos)"
   ]
  },
  {
   "cell_type": "code",
   "execution_count": 10,
   "metadata": {
    "collapsed": false
   },
   "outputs": [
    {
     "data": {
      "text/plain": [
       "'neg'"
      ]
     },
     "execution_count": 10,
     "metadata": {},
     "output_type": "execute_result"
    }
   ],
   "source": [
    "neg = {'ludicrous':True, 'fascination':True}\n",
    "classifier.classify(neg)"
   ]
  },
  {
   "cell_type": "markdown",
   "metadata": {},
   "source": [
    "### 그럼 좀 전의 test = 'the quick brown fox jumps over the lazy dog' 를 제대로 테스트를 해보고 싶다면?"
   ]
  },
  {
   "cell_type": "code",
   "execution_count": 11,
   "metadata": {
    "collapsed": false
   },
   "outputs": [
    {
     "name": "stdout",
     "output_type": "stream",
     "text": [
      "{'jumps': True, 'dog': True, 'over': True, 'the': True, 'fox': True, 'brown': True, 'quick': True, 'lazy': True}\n"
     ]
    }
   ],
   "source": [
    "t = {t: True for t in test.split(' ')}\n",
    "print (t)"
   ]
  },
  {
   "cell_type": "code",
   "execution_count": 12,
   "metadata": {
    "collapsed": false
   },
   "outputs": [
    {
     "data": {
      "text/plain": [
       "'neg'"
      ]
     },
     "execution_count": 12,
     "metadata": {},
     "output_type": "execute_result"
    }
   ],
   "source": [
    "classifier.classify(t)"
   ]
  },
  {
   "cell_type": "markdown",
   "metadata": {},
   "source": [
    "### 그렇다면 한글은...?"
   ]
  },
  {
   "cell_type": "markdown",
   "metadata": {},
   "source": [
    "### thanks to\n",
    "## 한국어와 NLTK, Gensim의 만남\n",
    "https://www.lucypark.kr/slides/2015-pyconkr/"
   ]
  },
  {
   "cell_type": "markdown",
   "metadata": {},
   "source": [
    "### 위에 했던 프로세스 그대로 해보겠습니다."
   ]
  },
  {
   "cell_type": "code",
   "execution_count": 13,
   "metadata": {
    "collapsed": false
   },
   "outputs": [
    {
     "name": "stdout",
     "output_type": "stream",
     "text": [
      "train on  150000  instances, test on  50000  instances\n"
     ]
    }
   ],
   "source": [
    "def read_data(filename):\n",
    "    with open(filename, 'r') as f:\n",
    "        data = [line.split('\\t') for line in f.read().splitlines()]\n",
    "        data = data[1:]   # header 제외\n",
    "    return data\n",
    "\n",
    "train_data = read_data('ratings_train.txt')\n",
    "test_data = read_data('ratings_test.txt')\n",
    "\n",
    "print ('train on ', len(train_data), ' instances, test on ', len(test_data), ' instances')"
   ]
  },
  {
   "cell_type": "markdown",
   "metadata": {},
   "source": [
    "### 사이즈를 좀 줄여서 진행하겠습니다."
   ]
  },
  {
   "cell_type": "code",
   "execution_count": 14,
   "metadata": {
    "collapsed": true
   },
   "outputs": [],
   "source": [
    "train_data = train_data[:1500]                         \n",
    "test_data = test_data[:500]                                                          \n",
    "\n",
    "from konlpy.tag import Twitter\n",
    "pos_tagger = Twitter()\n",
    "def tokenize(doc):\n",
    "    return ['/'.join(t) for t in pos_tagger.pos(doc, norm=True, stem=True)]\n",
    "\n",
    "train_docs = [(tokenize(row[1]), row[2]) for row in train_data]\n",
    "test_docs = [(tokenize(row[1]), row[2]) for row in test_data]"
   ]
  },
  {
   "cell_type": "code",
   "execution_count": 15,
   "metadata": {
    "collapsed": true
   },
   "outputs": [],
   "source": [
    "def term_exists(doc):\n",
    "    #return {'exists({})'.format(word): (word in set(doc)) for word in selected_words}\n",
    "    return {word: True for word in doc}\n",
    "\n",
    "train_xy = [(term_exists(d), c) for d, c in train_docs]\n",
    "test_xy = [(term_exists(d), c) for d, c in test_docs]"
   ]
  },
  {
   "cell_type": "code",
   "execution_count": 16,
   "metadata": {
    "collapsed": false
   },
   "outputs": [
    {
     "name": "stdout",
     "output_type": "stream",
     "text": [
      "accuracy: 0.786\n",
      "Most Informative Features\n",
      "       ㅡㅡ/KoreanParticle = True                0 : 1      =     11.6 : 1.0\n",
      "           아깝다/Adjective = True                0 : 1      =     11.5 : 1.0\n",
      "                 최고/Noun = True                1 : 0      =     11.1 : 1.0\n",
      "          재미없다/Adjective = True                0 : 1      =     10.6 : 1.0\n",
      "                쓰레기/Noun = True                0 : 1      =     10.4 : 1.0\n",
      "           괜찮다/Adjective = True                1 : 0      =      9.5 : 1.0\n",
      "           멋지다/Adjective = True                1 : 0      =      9.5 : 1.0\n",
      "           재밌다/Adjective = True                1 : 0      =      9.1 : 1.0\n",
      "                  냐/Josa = True                0 : 1      =      8.5 : 1.0\n",
      "                 최악/Noun = True                0 : 1      =      7.7 : 1.0\n"
     ]
    }
   ],
   "source": [
    "classifier = nltk.NaiveBayesClassifier.train(train_xy)\n",
    "print ('accuracy:', nltk.classify.util.accuracy(classifier, test_xy))\n",
    "classifier.show_most_informative_features()"
   ]
  },
  {
   "cell_type": "markdown",
   "metadata": {},
   "source": [
    "### 한글도 임의의 문장으로 테스트 해봐야겠죠?"
   ]
  },
  {
   "cell_type": "code",
   "execution_count": 18,
   "metadata": {
    "collapsed": false
   },
   "outputs": [],
   "source": [
    "t = '빠른 갈색 여우는 게으른 개를 뛰어 넘습니다.'"
   ]
  },
  {
   "cell_type": "code",
   "execution_count": 19,
   "metadata": {
    "collapsed": false
   },
   "outputs": [
    {
     "data": {
      "text/plain": [
       "'0'"
      ]
     },
     "execution_count": 19,
     "metadata": {},
     "output_type": "execute_result"
    }
   ],
   "source": [
    "t = tokenize(t)\n",
    "t = term_exists(t)\n",
    "classifier.classify(t)"
   ]
  },
  {
   "cell_type": "code",
   "execution_count": 20,
   "metadata": {
    "collapsed": true
   },
   "outputs": [],
   "source": [
    "t = '오늘 이 시간 정말 멋지고 재밌고 괜찮다!!'"
   ]
  },
  {
   "cell_type": "code",
   "execution_count": 21,
   "metadata": {
    "collapsed": false
   },
   "outputs": [
    {
     "data": {
      "text/plain": [
       "'1'"
      ]
     },
     "execution_count": 21,
     "metadata": {},
     "output_type": "execute_result"
    }
   ],
   "source": [
    "t = tokenize(t)\n",
    "t = term_exists(t)\n",
    "classifier.classify(t)"
   ]
  },
  {
   "cell_type": "code",
   "execution_count": null,
   "metadata": {
    "collapsed": true
   },
   "outputs": [],
   "source": []
  }
 ],
 "metadata": {
  "kernelspec": {
   "display_name": "Python 3",
   "language": "python",
   "name": "python3"
  },
  "language_info": {
   "codemirror_mode": {
    "name": "ipython",
    "version": 3
   },
   "file_extension": ".py",
   "mimetype": "text/x-python",
   "name": "python",
   "nbconvert_exporter": "python",
   "pygments_lexer": "ipython3",
   "version": "3.5.2"
  }
 },
 "nbformat": 4,
 "nbformat_minor": 1
}
