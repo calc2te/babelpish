{
 "cells": [
  {
   "cell_type": "code",
   "execution_count": 10,
   "metadata": {
    "collapsed": false
   },
   "outputs": [],
   "source": [
    "from nltk.tokenize import RegexpTokenizer\n",
    "from stop_words import get_stop_words\n",
    "from nltk.stem.porter import PorterStemmer\n",
    "from gensim import corpora, models\n",
    "import gensim\n",
    "from konlpy.tag import Twitter; t = Twitter()"
   ]
  },
  {
   "cell_type": "code",
   "execution_count": 2,
   "metadata": {
    "collapsed": false
   },
   "outputs": [],
   "source": [
    "# 불러오기\n",
    "with open('output.txt', 'r') as f:\n",
    "    load_text = [line for line in f.read().splitlines()]"
   ]
  },
  {
   "cell_type": "code",
   "execution_count": 3,
   "metadata": {
    "collapsed": true
   },
   "outputs": [],
   "source": [
    "doc_set = load_text"
   ]
  },
  {
   "cell_type": "code",
   "execution_count": 11,
   "metadata": {
    "collapsed": true
   },
   "outputs": [],
   "source": [
    "def tokenize(doc):\n",
    "    return ['/'.join(p) for p in t.pos(doc, norm=True, stem=True)]"
   ]
  },
  {
   "cell_type": "code",
   "execution_count": 12,
   "metadata": {
    "collapsed": false
   },
   "outputs": [],
   "source": [
    "texts = []\n",
    "for i in doc_set:\n",
    "    texts.append(tokenize(i))\n",
    "dictionary = corpora.Dictionary(texts)\n",
    "corpus = [dictionary.doc2bow(text) for text in texts]\n",
    "ldamodel = gensim.models.ldamodel.LdaModel(corpus, num_topics=2, id2word = dictionary, passes=20)"
   ]
  },
  {
   "cell_type": "code",
   "execution_count": 15,
   "metadata": {
    "collapsed": false
   },
   "outputs": [
    {
     "data": {
      "text/plain": [
       "[(0,\n",
       "  '0.034*\"하다/Verb\" + 0.024*\"./Punctuation\" + 0.020*\"을/Josa\" + 0.014*\"의/Josa\" + 0.013*\"이/Josa\" + 0.013*\"에/Josa\" + 0.011*\"를/Josa\" + 0.009*\",/Punctuation\" + 0.009*\"가/Josa\" + 0.007*\"]/Punctuation\"'),\n",
       " (1,\n",
       "  '0.028*\"./Punctuation\" + 0.025*\"하다/Verb\" + 0.022*\"을/Josa\" + 0.012*\"를/Josa\" + 0.011*\"는/Josa\" + 0.010*\"\"/Punctuation\" + 0.010*\"에/Josa\" + 0.009*\",/Punctuation\" + 0.009*\"의/Josa\" + 0.009*\"은/Josa\"')]"
      ]
     },
     "execution_count": 15,
     "metadata": {},
     "output_type": "execute_result"
    }
   ],
   "source": [
    "ldamodel.show_topics()"
   ]
  },
  {
   "cell_type": "markdown",
   "metadata": {},
   "source": [
    "> 조사 스트레스...\n",
    "\n",
    "> 저번처럼 Noun, Adjective, Adverb로만 다시 해보겠습니다."
   ]
  },
  {
   "cell_type": "code",
   "execution_count": 16,
   "metadata": {
    "collapsed": true
   },
   "outputs": [],
   "source": [
    "def tokenize(doc):\n",
    "    return ['/'.join(p) for p in t.pos(doc, norm=True, stem=True) if p[1] in ('Noun','Adjective','Adverb')]"
   ]
  },
  {
   "cell_type": "code",
   "execution_count": 17,
   "metadata": {
    "collapsed": false
   },
   "outputs": [
    {
     "data": {
      "text/plain": [
       "[(0,\n",
       "  '0.007*\"페이/Noun\" + 0.007*\"있다/Adjective\" + 0.006*\"등/Noun\" + 0.006*\"코/Noun\" + 0.005*\"일/Noun\" + 0.005*\"갤럭시/Noun\" + 0.005*\"서비스/Noun\" + 0.005*\"며/Noun\" + 0.005*\"검색/Noun\" + 0.004*\"년/Noun\"'),\n",
       " (1,\n",
       "  '0.009*\"있다/Adjective\" + 0.008*\"같다/Adjective\" + 0.008*\"영상/Noun\" + 0.008*\"뉴스/Noun\" + 0.006*\"그렇다/Adjective\" + 0.006*\"삼성/Noun\" + 0.006*\"얘기/Noun\" + 0.005*\"아니다/Adjective\" + 0.004*\"것/Noun\" + 0.004*\"이재용/Noun\"')]"
      ]
     },
     "execution_count": 17,
     "metadata": {},
     "output_type": "execute_result"
    }
   ],
   "source": [
    "texts = []\n",
    "for i in doc_set:\n",
    "    texts.append(tokenize(i))\n",
    "dictionary = corpora.Dictionary(texts)\n",
    "corpus = [dictionary.doc2bow(text) for text in texts]\n",
    "ldamodel = gensim.models.ldamodel.LdaModel(corpus, num_topics=2, id2word = dictionary, passes=20)\n",
    "ldamodel.show_topics()"
   ]
  },
  {
   "cell_type": "code",
   "execution_count": 18,
   "metadata": {
    "collapsed": false
   },
   "outputs": [
    {
     "data": {
      "text/plain": [
       "[(0,\n",
       "  '0.010*\"있다/Adjective\" + 0.008*\"뉴스/Noun\" + 0.007*\"같다/Adjective\" + 0.007*\"영상/Noun\" + 0.007*\"갤럭시/Noun\" + 0.006*\"페이/Noun\" + 0.006*\"삼성/Noun\" + 0.006*\"그렇다/Adjective\" + 0.005*\"코/Noun\" + 0.005*\"얘기/Noun\"'),\n",
       " (1,\n",
       "  '0.006*\"등/Noun\" + 0.006*\"있다/Adjective\" + 0.005*\"일/Noun\" + 0.005*\"검색/Noun\" + 0.005*\"고/Noun\" + 0.004*\"제품/Noun\" + 0.004*\"정보/Noun\" + 0.004*\"화학물질/Noun\" + 0.004*\"네이버/Noun\" + 0.004*\"년/Noun\"')]"
      ]
     },
     "execution_count": 18,
     "metadata": {},
     "output_type": "execute_result"
    }
   ],
   "source": [
    "ldamodel = gensim.models.ldamodel.LdaModel(corpus, num_topics=2, id2word = dictionary, passes=20)\n",
    "ldamodel.show_topics()"
   ]
  },
  {
   "cell_type": "code",
   "execution_count": 19,
   "metadata": {
    "collapsed": false
   },
   "outputs": [
    {
     "data": {
      "text/plain": [
       "[(0,\n",
       "  '0.009*\"있다/Adjective\" + 0.008*\"뉴스/Noun\" + 0.007*\"같다/Adjective\" + 0.007*\"영상/Noun\" + 0.007*\"갤럭시/Noun\" + 0.006*\"일/Noun\" + 0.005*\"그렇다/Adjective\" + 0.005*\"삼성/Noun\" + 0.005*\"얘기/Noun\" + 0.004*\"것/Noun\"'),\n",
       " (1,\n",
       "  '0.009*\"페이/Noun\" + 0.008*\"코/Noun\" + 0.008*\"등/Noun\" + 0.006*\"서비스/Noun\" + 0.006*\"검색/Noun\" + 0.006*\"네이버/Noun\" + 0.006*\"있다/Adjective\" + 0.005*\"화학물질/Noun\" + 0.005*\"관리/Noun\" + 0.004*\"정보/Noun\"')]"
      ]
     },
     "execution_count": 19,
     "metadata": {},
     "output_type": "execute_result"
    }
   ],
   "source": [
    "ldamodel = gensim.models.ldamodel.LdaModel(corpus, num_topics=2, id2word = dictionary, passes=20)\n",
    "ldamodel.show_topics()"
   ]
  },
  {
   "cell_type": "markdown",
   "metadata": {},
   "source": [
    "> 사회와 IT 기사를 가져온게 실수였나...\n",
    "\n",
    "> 음..."
   ]
  },
  {
   "cell_type": "code",
   "execution_count": null,
   "metadata": {
    "collapsed": true
   },
   "outputs": [],
   "source": []
  }
 ],
 "metadata": {
  "kernelspec": {
   "display_name": "Python 3",
   "language": "python",
   "name": "python3"
  },
  "language_info": {
   "codemirror_mode": {
    "name": "ipython",
    "version": 3
   },
   "file_extension": ".py",
   "mimetype": "text/x-python",
   "name": "python",
   "nbconvert_exporter": "python",
   "pygments_lexer": "ipython3",
   "version": "3.5.2"
  }
 },
 "nbformat": 4,
 "nbformat_minor": 2
}
