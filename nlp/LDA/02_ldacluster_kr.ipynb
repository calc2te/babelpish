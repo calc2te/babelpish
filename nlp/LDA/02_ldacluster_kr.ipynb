{
 "cells": [
  {
   "cell_type": "code",
   "execution_count": 1,
   "metadata": {
    "collapsed": false
   },
   "outputs": [
    {
     "name": "stderr",
     "output_type": "stream",
     "text": [
      "/Users/Seobs/miniconda3/lib/python3.5/site-packages/gensim/utils.py:1015: UserWarning: Pattern library is not installed, lemmatization won't be available.\n",
      "  warnings.warn(\"Pattern library is not installed, lemmatization won't be available.\")\n"
     ]
    }
   ],
   "source": [
    "from nltk.tokenize import RegexpTokenizer\n",
    "from stop_words import get_stop_words\n",
    "from nltk.stem.porter import PorterStemmer\n",
    "from gensim import corpora, models\n",
    "import gensim"
   ]
  },
  {
   "cell_type": "code",
   "execution_count": 2,
   "metadata": {
    "collapsed": false
   },
   "outputs": [],
   "source": [
    "from konlpy.tag import Twitter; t = Twitter()"
   ]
  },
  {
   "cell_type": "code",
   "execution_count": 3,
   "metadata": {
    "collapsed": true
   },
   "outputs": [],
   "source": [
    "doc_a = \"한·중·일 재무장관회의, 내달 5일 日요코하마 개최\"\n",
    "doc_b = \"[제5회 서울국제식품포럼] 베트남시장 연간 17%씩 성장.. 중국에서 동남아로 눈 돌려야\"\n",
    "doc_c = \"김도진 IBK 기업은행장 중소기업 특화 핀테크 서비스로 승부\"\n",
    "doc_d = \"수의사만 동물 백신 접종하라는 정부...반대 나선 약사들\"\n",
    "doc_e = \"우수업적 낸 과학자 '유공자'로 예우한다\"\n",
    "doc_f = \"화웨이 손 들어준 중국법원 삼성 132억원 배상\""
   ]
  },
  {
   "cell_type": "code",
   "execution_count": 4,
   "metadata": {
    "collapsed": true
   },
   "outputs": [],
   "source": [
    "doc_set = [doc_a, doc_b, doc_c, doc_d, doc_e, doc_f]"
   ]
  },
  {
   "cell_type": "code",
   "execution_count": 5,
   "metadata": {
    "collapsed": true
   },
   "outputs": [],
   "source": [
    "texts = []"
   ]
  },
  {
   "cell_type": "code",
   "execution_count": 6,
   "metadata": {
    "collapsed": false
   },
   "outputs": [],
   "source": [
    "def tokenize(doc):\n",
    "    return ['/'.join(p) for p in t.pos(doc, norm=True, stem=True)]"
   ]
  },
  {
   "cell_type": "code",
   "execution_count": 7,
   "metadata": {
    "collapsed": false
   },
   "outputs": [],
   "source": [
    "for i in doc_set:\n",
    "    texts.append(tokenize(i))"
   ]
  },
  {
   "cell_type": "code",
   "execution_count": 8,
   "metadata": {
    "collapsed": false
   },
   "outputs": [],
   "source": [
    "dictionary = corpora.Dictionary(texts)"
   ]
  },
  {
   "cell_type": "code",
   "execution_count": 9,
   "metadata": {
    "collapsed": false
   },
   "outputs": [
    {
     "data": {
      "text/plain": [
       "[(45, '백신/Noun'),\n",
       " (57, '나선/Noun'),\n",
       " (35, '중소기업/Noun'),\n",
       " (16, '포럼/Noun'),\n",
       " (3, '日/Foreign'),\n",
       " (39, '서비스/Noun'),\n",
       " (74, '들어주다/Verb'),\n",
       " (18, '동남아/Noun'),\n",
       " (14, '로/Josa'),\n",
       " (20, '서울/Noun'),\n",
       " (21, '[/Punctuation'),\n",
       " (60, '유공/Noun'),\n",
       " (61, '업적/Noun'),\n",
       " (7, '중/Noun'),\n",
       " (23, '연간/Noun'),\n",
       " (40, '기업은행/Noun'),\n",
       " (56, '반대/Noun'),\n",
       " (32, '17/Number'),\n",
       " (17, '중국/Noun'),\n",
       " (0, '일/Noun'),\n",
       " (2, '5/Number'),\n",
       " (58, '내다/Verb'),\n",
       " (41, '승부/Noun'),\n",
       " (48, '들/Suffix'),\n",
       " (6, '·/Foreign'),\n",
       " (76, '화웨이/Noun'),\n",
       " (46, '만/Josa'),\n",
       " (29, '회/Noun'),\n",
       " (51, '수의사/Noun'),\n",
       " (63, '다/Josa'),\n",
       " (8, '하다/Verb'),\n",
       " (31, '베트남/Noun'),\n",
       " (52, '접종/Noun'),\n",
       " (44, '특화/Noun'),\n",
       " (75, '배상/Noun'),\n",
       " (34, '국제/Noun'),\n",
       " (62, '예/Noun'),\n",
       " (13, '씩/Adverb'),\n",
       " (1, '장관/Noun'),\n",
       " (15, '../Punctuation'),\n",
       " (37, '장/Suffix'),\n",
       " (69, '삼성/Noun'),\n",
       " (47, '하라/Noun'),\n",
       " (71, '억원/Noun'),\n",
       " (65, \"'/Punctuation\"),\n",
       " (66, '우수/Noun'),\n",
       " (72, '법원/Noun'),\n",
       " (19, '성장/Noun'),\n",
       " (49, '동물/Noun'),\n",
       " (50, '는/Josa'),\n",
       " (22, ']/Punctuation'),\n",
       " (70, '손/Noun'),\n",
       " (53, '정부/Noun'),\n",
       " (5, '요코하마/Noun'),\n",
       " (24, '식품/Noun'),\n",
       " (12, '재무/Noun'),\n",
       " (26, '에서/Josa'),\n",
       " (25, '제/Noun'),\n",
       " (59, '과학자/Noun'),\n",
       " (36, '핀/Noun'),\n",
       " (38, '테크/Noun'),\n",
       " (27, '시장/Noun'),\n",
       " (64, '우한/Noun'),\n",
       " (4, '개최/Noun'),\n",
       " (11, '내달/Noun'),\n",
       " (42, '김도진/Noun'),\n",
       " (43, 'IBK/Alpha'),\n",
       " (28, '눈/Noun'),\n",
       " (67, '로/Noun'),\n",
       " (68, '자/Suffix'),\n",
       " (9, '회의/Noun'),\n",
       " (30, '%/Punctuation'),\n",
       " (55, '약사/Noun'),\n",
       " (10, ',/Punctuation'),\n",
       " (33, '돌리다/Verb'),\n",
       " (73, '132/Number'),\n",
       " (54, '.../Punctuation')]"
      ]
     },
     "execution_count": 9,
     "metadata": {},
     "output_type": "execute_result"
    }
   ],
   "source": [
    "[d for d in dictionary.items()]"
   ]
  },
  {
   "cell_type": "code",
   "execution_count": 10,
   "metadata": {
    "collapsed": true
   },
   "outputs": [],
   "source": [
    "corpus = [dictionary.doc2bow(text) for text in texts]"
   ]
  },
  {
   "cell_type": "code",
   "execution_count": 11,
   "metadata": {
    "collapsed": false
   },
   "outputs": [
    {
     "name": "stdout",
     "output_type": "stream",
     "text": [
      "['하다/Verb', '·/Foreign', '중/Noun', '·/Foreign', '일/Noun', '재무/Noun', '장관/Noun', '회의/Noun', ',/Punctuation', '내달/Noun', '5/Number', '일/Noun', '日/Foreign', '요코하마/Noun', '개최/Noun']\n"
     ]
    }
   ],
   "source": [
    "print(texts[0])"
   ]
  },
  {
   "cell_type": "code",
   "execution_count": 12,
   "metadata": {
    "collapsed": false
   },
   "outputs": [
    {
     "name": "stdout",
     "output_type": "stream",
     "text": [
      "[(0, 2), (1, 1), (2, 1), (3, 1), (4, 1), (5, 1), (6, 2), (7, 1), (8, 1), (9, 1), (10, 1), (11, 1), (12, 1)]\n"
     ]
    }
   ],
   "source": [
    "print(corpus[0])"
   ]
  },
  {
   "cell_type": "code",
   "execution_count": 13,
   "metadata": {
    "collapsed": false
   },
   "outputs": [],
   "source": [
    "ldamodel = gensim.models.ldamodel.LdaModel(corpus, num_topics=2, id2word = dictionary, passes=20)"
   ]
  },
  {
   "cell_type": "code",
   "execution_count": 14,
   "metadata": {
    "collapsed": false
   },
   "outputs": [
    {
     "data": {
      "text/plain": [
       "'0.034*\"\\'/Punctuation\" + 0.034*\"·/Foreign\" + 0.034*\"일/Noun\" + 0.020*\"5/Number\" + 0.020*\",/Punctuation\" + 0.020*\"회의/Noun\" + 0.020*\"요코하마/Noun\" + 0.020*\"개최/Noun\" + 0.020*\"하다/Verb\" + 0.020*\"내달/Noun\"'"
      ]
     },
     "execution_count": 14,
     "metadata": {},
     "output_type": "execute_result"
    }
   ],
   "source": [
    "ldamodel.print_topic(0)"
   ]
  },
  {
   "cell_type": "code",
   "execution_count": 15,
   "metadata": {
    "collapsed": false
   },
   "outputs": [
    {
     "data": {
      "text/plain": [
       "'0.029*\"로/Josa\" + 0.018*\"중국/Noun\" + 0.018*\"5/Number\" + 0.018*\"동남아/Noun\" + 0.018*\"연간/Noun\" + 0.018*\"%/Punctuation\" + 0.018*\"서울/Noun\" + 0.018*\"]/Punctuation\" + 0.018*\"포럼/Noun\" + 0.018*\"베트남/Noun\"'"
      ]
     },
     "execution_count": 15,
     "metadata": {},
     "output_type": "execute_result"
    }
   ],
   "source": [
    "ldamodel.print_topic(1)"
   ]
  },
  {
   "cell_type": "code",
   "execution_count": 16,
   "metadata": {
    "collapsed": false
   },
   "outputs": [
    {
     "data": {
      "text/plain": [
       "[(0, 0.013914032082334117), (1, 0.012289986755386379)]"
      ]
     },
     "execution_count": 16,
     "metadata": {},
     "output_type": "execute_result"
    }
   ],
   "source": [
    "ldamodel.get_term_topics('중국/Noun')"
   ]
  },
  {
   "cell_type": "code",
   "execution_count": null,
   "metadata": {
    "collapsed": false
   },
   "outputs": [],
   "source": []
  },
  {
   "cell_type": "code",
   "execution_count": 17,
   "metadata": {
    "collapsed": true
   },
   "outputs": [],
   "source": [
    "with open('../bowsa/ratings_test.txt', 'r') as f:\n",
    "    data = [line.split('\\t') for line in f.read().splitlines()]\n",
    "    data = data[1:]   # header 제외"
   ]
  },
  {
   "cell_type": "code",
   "execution_count": 18,
   "metadata": {
    "collapsed": false
   },
   "outputs": [
    {
     "data": {
      "text/plain": [
       "[['6270596', '굳 ㅋ', '1'],\n",
       " ['9274899', 'GDNTOPCLASSINTHECLUB', '0'],\n",
       " ['8544678', '뭐야 이 평점들은.... 나쁘진 않지만 10점 짜리는 더더욱 아니잖아', '0'],\n",
       " ['6825595', '지루하지는 않은데 완전 막장임... 돈주고 보기에는....', '0'],\n",
       " ['6723715', '3D만 아니었어도 별 다섯 개 줬을텐데.. 왜 3D로 나와서 제 심기를 불편하게 하죠??', '0']]"
      ]
     },
     "execution_count": 18,
     "metadata": {},
     "output_type": "execute_result"
    }
   ],
   "source": [
    "data[:5]"
   ]
  },
  {
   "cell_type": "code",
   "execution_count": 22,
   "metadata": {
    "collapsed": false
   },
   "outputs": [],
   "source": [
    "data = data[:5000]"
   ]
  },
  {
   "cell_type": "code",
   "execution_count": 23,
   "metadata": {
    "collapsed": true
   },
   "outputs": [],
   "source": [
    "doc_set = [d[1] for d in data]"
   ]
  },
  {
   "cell_type": "code",
   "execution_count": 24,
   "metadata": {
    "collapsed": false
   },
   "outputs": [],
   "source": [
    "texts = []\n",
    "for i in doc_set:\n",
    "    texts.append(tokenize(i))\n",
    "dictionary = corpora.Dictionary(texts)\n",
    "corpus = [dictionary.doc2bow(text) for text in texts]\n",
    "ldamodel = gensim.models.ldamodel.LdaModel(corpus, num_topics=3, id2word = dictionary, passes=20)"
   ]
  },
  {
   "cell_type": "code",
   "execution_count": 25,
   "metadata": {
    "collapsed": false
   },
   "outputs": [
    {
     "data": {
      "text/plain": [
       "[(0,\n",
       "  '0.045*\"./Punctuation\" + 0.024*\"하다/Verb\" + 0.016*\"영화/Noun\" + 0.013*\",/Punctuation\" + 0.012*\"에/Josa\" + 0.012*\"이/Josa\" + 0.012*\"을/Josa\" + 0.010*\"의/Josa\" + 0.010*\"를/Josa\" + 0.009*\"도/Josa\"'),\n",
       " (1,\n",
       "  '0.023*\"하다/Verb\" + 0.019*\"./Punctuation\" + 0.019*\"이/Josa\" + 0.017*\"영화/Noun\" + 0.014*\"../Punctuation\" + 0.013*\"은/Josa\" + 0.012*\"들/Suffix\" + 0.012*\"?/Punctuation\" + 0.011*\"가/Josa\" + 0.011*\".../Punctuation\"'),\n",
       " (2,\n",
       "  '0.030*\"영화/Noun\" + 0.027*\"./Punctuation\" + 0.024*\"보다/Verb\" + 0.019*\"의/Josa\" + 0.018*\"이/Josa\" + 0.015*\"하다/Verb\" + 0.014*\"../Punctuation\" + 0.012*\".../Punctuation\" + 0.011*\"에/Josa\" + 0.011*\"가/Josa\"')]"
      ]
     },
     "execution_count": 25,
     "metadata": {},
     "output_type": "execute_result"
    }
   ],
   "source": [
    "ldamodel.show_topics()"
   ]
  },
  {
   "cell_type": "code",
   "execution_count": null,
   "metadata": {
    "collapsed": true
   },
   "outputs": [],
   "source": []
  },
  {
   "cell_type": "code",
   "execution_count": 37,
   "metadata": {
    "collapsed": true
   },
   "outputs": [],
   "source": [
    "def tokenize(doc):\n",
    "    return ['/'.join(p) for p in t.pos(doc, norm=True, stem=True) if p[1] in ('Noun','Adjective','Adverb')]"
   ]
  },
  {
   "cell_type": "code",
   "execution_count": 38,
   "metadata": {
    "collapsed": false
   },
   "outputs": [
    {
     "data": {
      "text/plain": [
       "['중/Noun',\n",
       " '일/Noun',\n",
       " '재무/Noun',\n",
       " '장관/Noun',\n",
       " '회의/Noun',\n",
       " '내달/Noun',\n",
       " '일/Noun',\n",
       " '요코하마/Noun',\n",
       " '개최/Noun']"
      ]
     },
     "execution_count": 38,
     "metadata": {},
     "output_type": "execute_result"
    }
   ],
   "source": [
    "tokenize(doc_a)"
   ]
  },
  {
   "cell_type": "code",
   "execution_count": 39,
   "metadata": {
    "collapsed": true
   },
   "outputs": [],
   "source": [
    "texts = []\n",
    "for i in doc_set:\n",
    "    texts.append(tokenize(i))\n",
    "dictionary = corpora.Dictionary(texts)\n",
    "corpus = [dictionary.doc2bow(text) for text in texts]\n",
    "ldamodel = gensim.models.ldamodel.LdaModel(corpus, num_topics=3, id2word = dictionary, passes=20)"
   ]
  },
  {
   "cell_type": "code",
   "execution_count": 40,
   "metadata": {
    "collapsed": false
   },
   "outputs": [
    {
     "data": {
      "text/plain": [
       "[(0,\n",
       "  '0.031*\"영화/Noun\" + 0.014*\"좋다/Adjective\" + 0.014*\"너무/Noun\" + 0.011*\"점/Noun\" + 0.011*\"아니다/Adjective\" + 0.010*\"같다/Adjective\" + 0.009*\"것/Noun\" + 0.008*\"있다/Adjective\" + 0.008*\"평점/Noun\" + 0.008*\"없다/Adjective\"'),\n",
       " (1,\n",
       "  '0.044*\"영화/Noun\" + 0.014*\"없다/Adjective\" + 0.013*\"있다/Adjective\" + 0.012*\"이/Noun\" + 0.008*\"것/Noun\" + 0.007*\"같다/Adjective\" + 0.007*\"하나/Noun\" + 0.006*\"그/Noun\" + 0.006*\"그렇다/Adjective\" + 0.006*\"수/Noun\"'),\n",
       " (2,\n",
       "  '0.043*\"영화/Noun\" + 0.018*\"재밌다/Adjective\" + 0.014*\"최고/Noun\" + 0.013*\"없다/Adjective\" + 0.013*\"정말/Noun\" + 0.011*\"너무/Noun\" + 0.010*\"진짜/Noun\" + 0.009*\"재미/Noun\" + 0.008*\"좋다/Adjective\" + 0.007*\"감동/Noun\"')]"
      ]
     },
     "execution_count": 40,
     "metadata": {},
     "output_type": "execute_result"
    }
   ],
   "source": [
    "ldamodel.show_topics()"
   ]
  },
  {
   "cell_type": "code",
   "execution_count": 41,
   "metadata": {
    "collapsed": true
   },
   "outputs": [],
   "source": [
    "ldamodel = gensim.models.ldamodel.LdaModel(corpus, num_topics=2, id2word = dictionary, passes=20)"
   ]
  },
  {
   "cell_type": "code",
   "execution_count": 47,
   "metadata": {
    "collapsed": false
   },
   "outputs": [
    {
     "data": {
      "text/plain": [
       "[(0,\n",
       "  '0.060*\"영화/Noun\" + 0.017*\"재밌다/Adjective\" + 0.010*\"있다/Adjective\" + 0.010*\"점/Noun\" + 0.009*\"이렇다/Adjective\" + 0.009*\"이/Noun\" + 0.008*\"좋다/Adjective\" + 0.008*\"평점/Noun\" + 0.008*\"정말/Noun\" + 0.006*\"봐/Noun\"'),\n",
       " (1,\n",
       "  '0.020*\"영화/Noun\" + 0.019*\"없다/Adjective\" + 0.011*\"너무/Noun\" + 0.010*\"좋다/Adjective\" + 0.009*\"것/Noun\" + 0.008*\"있다/Adjective\" + 0.007*\"같다/Adjective\" + 0.007*\"스토리/Noun\" + 0.007*\"아니다/Adjective\" + 0.007*\"사람/Noun\"')]"
      ]
     },
     "execution_count": 47,
     "metadata": {},
     "output_type": "execute_result"
    }
   ],
   "source": [
    "ldamodel.show_topics(2, 10)"
   ]
  },
  {
   "cell_type": "code",
   "execution_count": null,
   "metadata": {
    "collapsed": true
   },
   "outputs": [],
   "source": []
  }
 ],
 "metadata": {
  "kernelspec": {
   "display_name": "Python 3",
   "language": "python",
   "name": "python3"
  },
  "language_info": {
   "codemirror_mode": {
    "name": "ipython",
    "version": 3
   },
   "file_extension": ".py",
   "mimetype": "text/x-python",
   "name": "python",
   "nbconvert_exporter": "python",
   "pygments_lexer": "ipython3",
   "version": "3.5.2"
  }
 },
 "nbformat": 4,
 "nbformat_minor": 2
}
