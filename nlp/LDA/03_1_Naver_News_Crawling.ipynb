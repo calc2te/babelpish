{
 "cells": [
  {
   "cell_type": "markdown",
   "metadata": {
    "deletable": true,
    "editable": true
   },
   "source": [
    "### 네이버 뉴스 속보탭의 기사 본문들 가져오기"
   ]
  },
  {
   "cell_type": "code",
   "execution_count": 1,
   "metadata": {
    "collapsed": true,
    "deletable": true,
    "editable": true
   },
   "outputs": [],
   "source": [
    "from bs4 import BeautifulSoup\n",
    "import urllib.request"
   ]
  },
  {
   "cell_type": "markdown",
   "metadata": {
    "deletable": true,
    "editable": true
   },
   "source": [
    "전체속보 : http://news.naver.com/main/list.nhn?sid1=001&mid=sec&mode=LSD&date=20170407&page=1"
   ]
  },
  {
   "cell_type": "code",
   "execution_count": 2,
   "metadata": {
    "collapsed": true,
    "deletable": true,
    "editable": true
   },
   "outputs": [],
   "source": [
    "OUTPUT_FILE_NAME = 'output.txt'\n",
    "URL = 'http://news.naver.com/main/list.nhn?sid1=001&mid=sec&mode=LSD&date=20170407&page=1'"
   ]
  },
  {
   "cell_type": "code",
   "execution_count": 4,
   "metadata": {
    "collapsed": true,
    "deletable": true,
    "editable": true
   },
   "outputs": [],
   "source": [
    "source_code_from_URL = urllib.request.urlopen(URL)"
   ]
  },
  {
   "cell_type": "code",
   "execution_count": 5,
   "metadata": {
    "collapsed": false,
    "deletable": true,
    "editable": true
   },
   "outputs": [],
   "source": [
    "soup = BeautifulSoup(source_code_from_URL, 'lxml', from_encoding='utf-8')"
   ]
  },
  {
   "cell_type": "markdown",
   "metadata": {},
   "source": [
    "> Couldn't find a tree builder with the features you requested: lxml 에러시 lxml을 설치해주세요"
   ]
  },
  {
   "cell_type": "code",
   "execution_count": 6,
   "metadata": {
    "collapsed": false,
    "deletable": true,
    "editable": true,
    "scrolled": false
   },
   "outputs": [
    {
     "name": "stdout",
     "output_type": "stream",
     "text": [
      "http://news.naver.com/main/read.nhn?mode=LSD&mid=sec&sid1=001&oid=077&aid=0003436397\n",
      "http://news.naver.com/main/read.nhn?mode=LSD&mid=sec&sid1=001&oid=077&aid=0003436397\n",
      "http://news.naver.com/main/read.nhn?mode=LSD&mid=sec&sid1=001&oid=311&aid=0000721146\n",
      "http://news.naver.com/main/read.nhn?mode=LSD&mid=sec&sid1=001&oid=311&aid=0000721146\n",
      "http://news.naver.com/main/read.nhn?mode=LSD&mid=sec&sid1=001&oid=144&aid=0000485566\n",
      "http://news.naver.com/main/read.nhn?mode=LSD&mid=sec&sid1=001&oid=144&aid=0000485566\n",
      "http://news.naver.com/main/read.nhn?mode=LSD&mid=sec&sid1=001&oid=077&aid=0003436396\n",
      "http://news.naver.com/main/read.nhn?mode=LSD&mid=sec&sid1=001&oid=077&aid=0003436396\n",
      "http://news.naver.com/main/read.nhn?mode=LSD&mid=sec&sid1=001&oid=144&aid=0000485565\n",
      "http://news.naver.com/main/read.nhn?mode=LSD&mid=sec&sid1=001&oid=144&aid=0000485565\n",
      "http://news.naver.com/main/read.nhn?mode=LSD&mid=sec&sid1=001&oid=077&aid=0003436395\n",
      "http://news.naver.com/main/read.nhn?mode=LSD&mid=sec&sid1=001&oid=077&aid=0003436395\n",
      "http://news.naver.com/main/read.nhn?mode=LSD&mid=sec&sid1=001&oid=077&aid=0003436394\n",
      "http://news.naver.com/main/read.nhn?mode=LSD&mid=sec&sid1=001&oid=077&aid=0003436394\n",
      "http://news.naver.com/main/read.nhn?mode=LSD&mid=sec&sid1=001&oid=077&aid=0003436393\n",
      "http://news.naver.com/main/read.nhn?mode=LSD&mid=sec&sid1=001&oid=077&aid=0003436393\n",
      "http://news.naver.com/main/read.nhn?mode=LSD&mid=sec&sid1=001&oid=469&aid=0000197017\n",
      "http://news.naver.com/main/read.nhn?mode=LSD&mid=sec&sid1=001&oid=015&aid=0003752953\n",
      "http://news.naver.com/main/read.nhn?mode=LSD&mid=sec&sid1=001&oid=079&aid=0002952306\n",
      "http://news.naver.com/main/read.nhn?mode=LSD&mid=sec&sid1=001&oid=022&aid=0003162609\n",
      "http://news.naver.com/main/read.nhn?mode=LSD&mid=sec&sid1=001&oid=022&aid=0003162609\n",
      "http://news.naver.com/main/read.nhn?mode=LSD&mid=sec&sid1=001&oid=468&aid=0000253561\n",
      "http://news.naver.com/main/read.nhn?mode=LSD&mid=sec&sid1=001&oid=468&aid=0000253561\n",
      "http://news.naver.com/main/read.nhn?mode=LSD&mid=sec&sid1=001&oid=018&aid=0003794053\n",
      "http://news.naver.com/main/read.nhn?mode=LSD&mid=sec&sid1=001&oid=018&aid=0003794053\n",
      "http://news.naver.com/main/read.nhn?mode=LSD&mid=sec&sid1=001&oid=015&aid=0003752952\n",
      "http://news.naver.com/main/read.nhn?mode=LSD&mid=sec&sid1=001&oid=001&aid=0009172277\n",
      "http://news.naver.com/main/read.nhn?mode=LSD&mid=sec&sid1=001&oid=001&aid=0009172277\n",
      "http://news.naver.com/main/read.nhn?mode=LSD&mid=sec&sid1=001&oid=112&aid=0002909369\n",
      "http://news.naver.com/main/read.nhn?mode=LSD&mid=sec&sid1=001&oid=112&aid=0002909369\n",
      "http://news.naver.com/main/read.nhn?mode=LSD&mid=sec&sid1=001&oid=030&aid=0002598918\n",
      "http://news.naver.com/main/read.nhn?mode=LSD&mid=sec&sid1=001&oid=030&aid=0002598918\n",
      "http://news.naver.com/main/read.nhn?mode=LSD&mid=sec&sid1=001&oid=077&aid=0003436392\n",
      "http://news.naver.com/main/read.nhn?mode=LSD&mid=sec&sid1=001&oid=077&aid=0003436392\n",
      "http://news.naver.com/main/read.nhn?mode=LSD&mid=sec&sid1=001&oid=077&aid=0003436391\n",
      "http://news.naver.com/main/read.nhn?mode=LSD&mid=sec&sid1=001&oid=077&aid=0003436391\n"
     ]
    }
   ],
   "source": [
    "for item in soup.findAll('a', {'class':'nclicks(fls.list)'}):\n",
    "    print(item.get('href'))"
   ]
  },
  {
   "cell_type": "markdown",
   "metadata": {
    "deletable": true,
    "editable": true
   },
   "source": [
    "> 사회 - 사회일반 : http://news.naver.com/main/list.nhn?sid2=257&sid1=102&mid=shm&mode=LS2D&date=20170407&page=1\n",
    "\n",
    "> IT/과학 - IT 일반 : http://news.naver.com/main/list.nhn?sid2=230&sid1=105&mid=shm&mode=LS2D&date=20170407&page=1\n",
    "\n",
    "> LDA의 테스트를 위해 2개의 섹션에서 기사를 가지고 오고 싶었지만, 사회 - 사회일반에서 nclicks(fls.list)가 존재하지 않음...\n",
    "\n",
    "> #### 그래도... 방법을 찾아보았습니다..."
   ]
  },
  {
   "cell_type": "code",
   "execution_count": 8,
   "metadata": {
    "collapsed": true,
    "deletable": true,
    "editable": true
   },
   "outputs": [],
   "source": [
    "URL = 'http://news.naver.com/main/list.nhn?sid2=257&sid1=102&mid=shm&mode=LS2D&date=20170407&page=1'"
   ]
  },
  {
   "cell_type": "code",
   "execution_count": 9,
   "metadata": {
    "collapsed": false,
    "deletable": true,
    "editable": true
   },
   "outputs": [],
   "source": [
    "source_code_from_URL = urllib.request.urlopen(URL)\n",
    "soup = BeautifulSoup(source_code_from_URL, 'lxml', from_encoding='utf-8')"
   ]
  },
  {
   "cell_type": "code",
   "execution_count": 10,
   "metadata": {
    "collapsed": false
   },
   "outputs": [
    {
     "name": "stdout",
     "output_type": "stream",
     "text": [
      "http://news.naver.com/main/read.nhn?mode=LS2D&mid=shm&sid1=102&sid2=257&oid=005&aid=0000982987\n",
      "http://news.naver.com/main/read.nhn?mode=LS2D&mid=shm&sid1=102&sid2=257&oid=032&aid=0002778873\n",
      "http://news.naver.com/main/read.nhn?mode=LS2D&mid=shm&sid1=102&sid2=257&oid=032&aid=0002778872\n",
      "http://news.naver.com/main/read.nhn?mode=LS2D&mid=shm&sid1=102&sid2=257&oid=032&aid=0002778871\n",
      "http://news.naver.com/main/read.nhn?mode=LS2D&mid=shm&sid1=102&sid2=257&oid=032&aid=0002778870\n",
      "http://news.naver.com/main/read.nhn?mode=LS2D&mid=shm&sid1=102&sid2=257&oid=001&aid=0009172272\n",
      "http://news.naver.com/main/read.nhn?mode=LS2D&mid=shm&sid1=102&sid2=257&oid=032&aid=0002778869\n",
      "http://news.naver.com/main/read.nhn?mode=LS2D&mid=shm&sid1=102&sid2=257&oid=015&aid=0003752949\n",
      "http://news.naver.com/main/read.nhn?mode=LS2D&mid=shm&sid1=102&sid2=257&oid=032&aid=0002778867\n",
      "http://news.naver.com/main/read.nhn?mode=LS2D&mid=shm&sid1=102&sid2=257&oid=022&aid=0003162603\n",
      "http://news.naver.com/main/read.nhn?mode=LS2D&mid=shm&sid1=102&sid2=257&oid=022&aid=0003162599\n",
      "http://news.naver.com/main/read.nhn?mode=LS2D&mid=shm&sid1=102&sid2=257&oid=002&aid=0002028986\n",
      "http://news.naver.com/main/read.nhn?mode=LS2D&mid=shm&sid1=102&sid2=257&oid=022&aid=0003162596\n",
      "http://news.naver.com/main/read.nhn?mode=LS2D&mid=shm&sid1=102&sid2=257&oid=052&aid=0000996108\n",
      "http://news.naver.com/main/read.nhn?mode=LS2D&mid=shm&sid1=102&sid2=257&oid=052&aid=0000996103\n",
      "http://news.naver.com/main/read.nhn?mode=LS2D&mid=shm&sid1=102&sid2=257&oid=002&aid=0002028984\n"
     ]
    }
   ],
   "source": [
    "for item in soup.findAll('dt', {'class':'photo'}):\n",
    "    print(item.find('a').get('href'))"
   ]
  },
  {
   "cell_type": "code",
   "execution_count": 3,
   "metadata": {
    "collapsed": false
   },
   "outputs": [],
   "source": [
    "source_code_from_URL = urllib.request.urlopen('http://news.naver.com/main/read.nhn?mode=LS2D&mid=shm&sid1=102&sid2=257&oid=005&aid=0000982987')"
   ]
  },
  {
   "cell_type": "code",
   "execution_count": 4,
   "metadata": {
    "collapsed": true
   },
   "outputs": [],
   "source": [
    "s = BeautifulSoup(source_code_from_URL, 'lxml', from_encoding='utf-8')"
   ]
  },
  {
   "cell_type": "code",
   "execution_count": 5,
   "metadata": {
    "collapsed": false
   },
   "outputs": [
    {
     "data": {
      "text/plain": [
       "[<div id=\"articleBodyContents\">\n",
       " <!-- 본문 내용 -->\n",
       " <!-- TV플레이어 -->\n",
       " <!-- // TV플레이어 -->\n",
       " <script type=\"text/javascript\">\n",
       " // flash 오류를 우회하기 위한 함수 추가\n",
       " function _flash_removeCallback() {}\n",
       " </script>\n",
       " <span class=\"end_photo_org\"><img src=\"http://imgnews.naver.net/image/005/2017/04/07/201704080100_61120011384940_1_20170408010102006.jpg?type=w540\"/><em class=\"img_desc\">2017 서울 여의도 밤도깨비야시장 (ⓒSeoul Bamdokkaebi Night Market)</em></span><br/><br/>봄비가 지고 벚꽃이 피자 밤도깨비야시장이 열렸다. 7일 밤 서울 여의도 한강공원을 환하게 밝힌 밤도깨비야시장은 봄꽃의 향기와 도심의 야경을 만끽하고 싶은 시민들로 붐볐다.<br/><br/>밤도깨비야시장은 지난달 24일 개장했다. 오는 10월 28일까지매주 금, 토요일마다 열린다. 모두 407팀(푸드트럭 142대, 핸드메이드 265팀)이 참가한 이번 행사는 여의도 한강공원 일대, 동대문디자인플라자(DDP) 일대, 청계천 일대, 반포 한강공원, 서울 혁신파크 등 서울시내 총 5곳에서 진행된다. 푸드트럭과 핸드메이드팀은 3~4주에 한번씩 자리를 바꿔가며 시민들을 찾아간다.  청계천 일대는 시즌마켓으로 5월 19~21일, 8월 18~20일, 9월 15~17일, 10월 13~15일 운영한다.<br/><br/>서울 도심의 행사장 5곳 중 여의도 한강공원 밤도깨비야시장은 아름다운 한강의 야경과 봄꽃축제를 함께 즐길 수 있는 핫플레이스다. 푸드트럭 42대, 핸드메이드셀러 50팀이 참가해 세계 각국의 먹거리와 특별한 핸드메이드 상품을 선보이고 있다.<br/><br/><span class=\"end_photo_org\"><img src=\"http://imgnews.naver.net/image/005/2017/04/07/201704080100_61120011384940_2_20170408010102058.jpg?type=w540\"/></span><br/><br/>전국에 있는 푸드트럭은 한강공원을 따라 늘어서 다채로운 음식들을 요리하고 있었다. 눈으로 한 번, 입으로 한 번 즐기는 푸드트럭을 통해 새콤달콤한 패션후르츠 요거트부터 치즈 토핑과 함께하는 닭발까지 다채로운 음식을 만날 수 있었다. 디저트부터 저녁식사, 음료와 안주까지 모든 것이 준비돼 있다.<br/><br/><span class=\"end_photo_org\"><img src=\"http://imgnews.naver.net/image/005/2017/04/07/201704080100_61120011384940_3_20170408010102067.jpg?type=w540\"/></span><br/><br/>푸드트럭 맞은 편에는 다양한 분야의 핸드메이드 작가들이 각종 수공예품을 선보이는 폴리마켓이 열렸다. 반짝이는 아이디어와 솜씨로 만들어진 작품을 통해 세상에서 하나뿐인 나만을 위한 작품을 손에 넣을 수도 있다.<br/><br/>석양이 지고 밤이 되면 시원한 강바람과 야경을 배경으로 버스킹 공연과 전 세계 전통 공연 등 각종 퍼포먼스를 즐길 수 있다. 밤도깨비야시장 관계자는 \"지난 주말 기온이 떨어져 손님이 적었지만 이번주 금요일부터 기온이 풀리고 봄꽃축제도 개막해 많은 손님들이 찾아 올 것 같다\"고 기대했다.<br/><iframe allowfullscreen=\"\" frameborder=\"0\" height=\"316\" src=\"https://www.youtube.com/embed/vyY8ddvBzi4\" width=\"544\"></iframe><br/><iframe allowfullscreen=\"\" frameborder=\"0\" height=\"315\" src=\"https://www.youtube.com/embed/SXgiaS8LMUk\" width=\"544\"></iframe><br/><br/><span class=\"end_photo_org\"><img src=\"http://imgnews.naver.net/image/005/2017/04/07/201704080100_61120011384940_4_20170408010102080.jpg?type=w540\"/></span><br/><br/><b>◇여의도 한강공원 밤도깨비야시장의 ‘꿀팁’ Q&amp;A</b><br/><br/><b>Q. 푸드트럭에서 카드 안 되나요?</b><br/>A. 현금도, 카드도 자유롭게 거래가 가능합니다. 하지만 아직 카드 시스템이 정착 중이어서 일부 푸드트럭에선 카드 거래가 안 되는 곳도 존재합니다.<br/><br/><span class=\"end_photo_org\"><img src=\"http://imgnews.naver.net/image/005/2017/04/07/201704080100_61120011384940_5_20170408010102092.jpg?type=w540\"/><em class=\"img_desc\">2017 서울 여의도 밤도깨비야시장 (ⓒ Seoul Bamdokkaebi Night Market)</em></span><br/><br/><b>Q. 먹거리 말고 다른 즐길거리가 있나요?</b><br/>A. 다양한 분야의 핸드메이드 작가들이 만든 각종 수공예품을 만날 수 있습니다. 또 매일 밤 선보이는 버스킹 공연, 게릴라 퍼포먼스 등 다양한 볼거리를 즐길 수 있습니다. 국회의사당 방면으로 걸어가면 여의도에서 주관하는 봄꽃축제에 참여할 수 있습니다. <br/><br/><b>Q. 주차장은?</b><br/>A. 안타깝게도 행사 주관사에서 따로 운영하는 주차장은 없습니다. 여의도 공원 내 주차시설이 있지만 차가 많이 막히고 사람이 몰리는 주말에는 대중교통을 추천합니다.<br/><br/><span class=\"end_photo_org\"><img src=\"http://imgnews.naver.net/image/005/2017/04/07/201704080100_61120011384940_6_20170408010102129.jpg?type=w540\"/></span><br/><br/><b>Q. 줄을 정말로 많이 서나요?</b><br/>A. 개장 전부터 손님들이 줄을 서고 있는 푸드 트럭도 있습니다. 하지만 음식은 오후 6시 정각부터 팔기 때문에 푸드트럭으로 너무 일찍 갈 필요는 없습니다. 개장 후 30분 정도만 지나도 잔디밭을 가로지르는 줄들을 볼 수 있습니다.<br/><br/><b>Q. 와이파이 되나요?</b><br/>A. 주관사에서 와이파이 시설을 증설을 하지 않았습니다. 야시장에서는 스마트폰 화면보다는 사랑하는 사람과 보고 듣고 맛있는 음식을 먹고 걸어보세요.<br/><br/><span class=\"end_photo_org\"><img src=\"http://imgnews.naver.net/image/005/2017/04/07/201704080100_61120011384940_7_20170408010102140.jpg?type=w540\"/></span><br/><br/><b>Q. 가격은 어느 정도인가요?</b><br/>A. 2000원에서 1만원까지 다양합니다. 보통 식당과 비교해 싸다고는 할 수 없지만 무조건 바가지라고 할 정도는 아닌 것 같습니다.<br/><br/><b>Q. 화장실! 화장실은 어떻게?</b><br/>A. 화장실은 여의도 공원에 설치된 기존 화장실이 전부입니다. 야시장을 찾기 전에 급한 ‘볼 일’을 해결하는 것을 추천합니다.<br/><br/><span class=\"end_photo_org\"><img src=\"http://imgnews.naver.net/image/005/2017/04/07/201704080100_61120011384940_8_20170408010102155.jpg?type=w540\"/></span><br/><br/>글·사진·영상=최민우 인턴기자 cmwoo11@kmib.co.kr<br/><br/><b><a href=\"http://www.kmib.co.kr\" target=\"_blank\"><font color=\"f98b10\">[국민일보 홈페이지]</font></a> <a href=\"https://www.facebook.com/kukmindaily\" target=\"_blank\"><font color=\"f98b10\">[페이스북]</font></a> <a href=\"https://twitter.com/TheKukminDaily\" target=\"_blank\"><font color=\"f98b10\">[트위터]</font></a></b><br/><b><a href=\"https://www.facebook.com/wngproject/\" target=\"_blank\"><font color=\"f98b10\">[취재대행소 왱!(클릭)]</font></a></b><br/><br/>GoodNews paper ⓒ <a href=\"http://www.kmib.co.kr\" target=\"_blank\">국민일보(www.kmib.co.kr)</a>, 무단전재 및 재배포금지<br/>\n",
       " <!-- // 본문 내용 -->\n",
       " </div>]"
      ]
     },
     "execution_count": 5,
     "metadata": {},
     "output_type": "execute_result"
    }
   ],
   "source": [
    "s.find_all('div', id='articleBodyContents')"
   ]
  },
  {
   "cell_type": "markdown",
   "metadata": {},
   "source": [
    "> 태그 및 불필요한 부분들을 없애는 방법을 알아보자"
   ]
  },
  {
   "cell_type": "code",
   "execution_count": 6,
   "metadata": {
    "collapsed": true
   },
   "outputs": [],
   "source": [
    "import re"
   ]
  },
  {
   "cell_type": "code",
   "execution_count": 7,
   "metadata": {
    "collapsed": true
   },
   "outputs": [],
   "source": [
    "t = s.find_all('div', id='articleBodyContents')"
   ]
  },
  {
   "cell_type": "code",
   "execution_count": 8,
   "metadata": {
    "collapsed": false
   },
   "outputs": [],
   "source": [
    "t = re.sub(\"<!--.*?-->\", \"\", str(t)) #주석 지우기"
   ]
  },
  {
   "cell_type": "code",
   "execution_count": 9,
   "metadata": {
    "collapsed": false
   },
   "outputs": [],
   "source": [
    "t = re.sub(\"<script.*?>.*?</script>\", \"\", str(t)) #스크립트 지우기"
   ]
  },
  {
   "cell_type": "code",
   "execution_count": 10,
   "metadata": {
    "collapsed": false
   },
   "outputs": [],
   "source": [
    "t = re.sub(\"<.+?>\", \"\", str(t)) #태그 지우기"
   ]
  },
  {
   "cell_type": "code",
   "execution_count": 11,
   "metadata": {
    "collapsed": false
   },
   "outputs": [],
   "source": [
    "t = re.sub(\"&nbsp;| |\\t|\\r|\\n\", \"\", str(t)) #공백 \\r\\n 지우기"
   ]
  },
  {
   "cell_type": "code",
   "execution_count": 12,
   "metadata": {
    "collapsed": false
   },
   "outputs": [
    {
     "name": "stdout",
     "output_type": "stream",
     "text": [
      "[//flash오류를우회하기위한함수추가function_flash_removeCallback(){}2017서울여의도밤도깨비야시장(ⓒSeoulBamdokkaebiNightMarket)봄비가지고벚꽃이피자밤도깨비야시장이열렸다.7일밤서울여의도한강공원을환하게밝힌밤도깨비야시장은봄꽃의향기와도심의야경을만끽하고싶은시민들로붐볐다.밤도깨비야시장은지난달24일개장했다.오는10월28일까지매주금,토요일마다열린다.모두407팀(푸드트럭142대,핸드메이드265팀)이참가한이번행사는여의도한강공원일대,동대문디자인플라자(DDP)일대,청계천일대,반포한강공원,서울혁신파크등서울시내총5곳에서진행된다.푸드트럭과핸드메이드팀은3~4주에한번씩자리를바꿔가며시민들을찾아간다. 청계천일대는시즌마켓으로5월19~21일,8월18~20일,9월15~17일,10월13~15일운영한다.서울도심의행사장5곳중여의도한강공원밤도깨비야시장은아름다운한강의야경과봄꽃축제를함께즐길수있는핫플레이스다.푸드트럭42대,핸드메이드셀러50팀이참가해세계각국의먹거리와특별한핸드메이드상품을선보이고있다.전국에있는푸드트럭은한강공원을따라늘어서다채로운음식들을요리하고있었다.눈으로한번,입으로한번즐기는푸드트럭을통해새콤달콤한패션후르츠요거트부터치즈토핑과함께하는닭발까지다채로운음식을만날수있었다.디저트부터저녁식사,음료와안주까지모든것이준비돼있다.푸드트럭맞은편에는다양한분야의핸드메이드작가들이각종수공예품을선보이는폴리마켓이열렸다.반짝이는아이디어와솜씨로만들어진작품을통해세상에서하나뿐인나만을위한작품을손에넣을수도있다.석양이지고밤이되면시원한강바람과야경을배경으로버스킹공연과전세계전통공연등각종퍼포먼스를즐길수있다.밤도깨비야시장관계자는\"지난주말기온이떨어져손님이적었지만이번주금요일부터기온이풀리고봄꽃축제도개막해많은손님들이찾아올것같다\"고기대했다.◇여의도한강공원밤도깨비야시장의‘꿀팁’Q&amp;AQ.푸드트럭에서카드안되나요?A. 현금도,카드도자유롭게거래가가능합니다.하지만아직카드시스템이정착중이어서일부푸드트럭에선카드거래가안되는곳도존재합니다.2017서울여의도밤도깨비야시장(ⓒSeoulBamdokkaebiNightMarket)Q.먹거리말고다른즐길거리가있나요?A.다양한분야의핸드메이드작가들이만든각종수공예품을만날수있습니다.또매일밤선보이는버스킹공연,게릴라퍼포먼스등다양한볼거리를즐길수있습니다.국회의사당방면으로걸어가면여의도에서주관하는봄꽃축제에참여할수있습니다. Q.주차장은?A.안타깝게도행사주관사에서따로운영하는주차장은없습니다.여의도공원내주차시설이있지만차가많이막히고사람이몰리는주말에는대중교통을추천합니다.Q.줄을정말로많이서나요?A.개장전부터손님들이줄을서고있는푸드트럭도있습니다.하지만음식은오후6시정각부터팔기때문에푸드트럭으로너무일찍갈필요는없습니다.개장후30분정도만지나도잔디밭을가로지르는줄들을볼수있습니다.Q.와이파이되나요?A.주관사에서와이파이시설을증설을하지않았습니다.야시장에서는스마트폰화면보다는사랑하는사람과보고듣고맛있는음식을먹고걸어보세요.Q.가격은어느정도인가요?A.2000원에서1만원까지다양합니다.보통식당과비교해싸다고는할수없지만무조건바가지라고할정도는아닌것같습니다.Q.화장실!화장실은어떻게?A.화장실은여의도공원에설치된기존화장실이전부입니다.야시장을찾기전에급한‘볼일’을해결하는것을추천합니다.글·사진·영상=최민우인턴기자cmwoo11@kmib.co.kr[국민일보홈페이지][페이스북][트위터][취재대행소왱!(클릭)]GoodNewspaperⓒ국민일보(www.kmib.co.kr),무단전재및재배포금지]\n"
     ]
    }
   ],
   "source": [
    "text = t\n",
    "print(text)"
   ]
  },
  {
   "cell_type": "markdown",
   "metadata": {},
   "source": [
    "> 그럼에도 러프하지만 그냥 진행해보겠습니다."
   ]
  },
  {
   "cell_type": "markdown",
   "metadata": {},
   "source": [
    "> 그리고 이젠 전체를 돌려서 저장을 해보겠습니다."
   ]
  },
  {
   "cell_type": "code",
   "execution_count": 13,
   "metadata": {
    "collapsed": true
   },
   "outputs": [],
   "source": [
    "f = open(OUTPUT_FILE_NAME, 'a')"
   ]
  },
  {
   "cell_type": "code",
   "execution_count": 50,
   "metadata": {
    "collapsed": false
   },
   "outputs": [],
   "source": [
    "URL = 'http://news.naver.com/main/list.nhn?sid2=257&sid1=102&mid=shm&mode=LS2D&date=20170407&page=1'\n",
    "source_code_from_URL = urllib.request.urlopen(URL)\n",
    "soup = BeautifulSoup(source_code_from_URL, 'lxml', from_encoding='utf-8')\n",
    "\n",
    "text = []\n",
    "\n",
    "for item in soup.findAll('dt', {'class':'photo'}):\n",
    "    s = BeautifulSoup(urllib.request.urlopen(item.find('a').get('href')), 'lxml', from_encoding='utf-8')\n",
    "    \n",
    "    #for i in s.find_all('div', id='articleBodyContents'):\n",
    "    #    text = str(i.find_all(text=True))\n",
    "    \n",
    "    t = s.find_all('div', id='articleBodyContents')\n",
    "    t = re.sub(\"<!--.*?-->\", \"\", str(t)) #주석 지우기\n",
    "    t = re.sub(\"<script.*?>.*?</script>\", \"\", str(t)) #스크립트 지우기\n",
    "    t = re.sub(\"<.+?>\", \"\", str(t)) #태그 지우기\n",
    "    t = re.sub(\"&nbsp;| |\\t|\\r|\\n\", \"\", str(t)) #공백 \\r\\n 지우기\n",
    "    t = t.replace(\"//flash오류를우회하기위한함수추가function_flash_removeCallback(){}\", \"\")\n",
    "\n",
    "    text.append(t)\n",
    "    \n",
    "    #f.write(t)\n",
    "    #f.write('\\n')"
   ]
  },
  {
   "cell_type": "code",
   "execution_count": 49,
   "metadata": {
    "collapsed": false
   },
   "outputs": [
    {
     "data": {
      "text/plain": [
       "'[단기적·기술적보완을위한조직개편보다는장기적이고범정부차원에서화학물질의위험관리가이루어져야한다.가습기살균제,구미불산사고,삼성백혈병은피상적인원인분석과대책마련에머물러온문제점을기저에공유하고있다.새정부의화학물질관리원칙은첫번째로산업진흥과산업규제의분리,즉생산자를위한행정과소비자를위한행정의분리,사업주를위한행정과노동자를위한행정의분리,전문가를위한행정과일반인을위한행정의분리가되어야한다.두번째로부처간화학물질안전관련기능의통합과연계가이뤄져야한다.세번째로화학물질의수입·생산·운반·소비·폐기등전과정에이르는관리체계를갖추면서,각과정에서발생하는오염원·노출·건강등에이르는전단계의자료생성과평가가이루어지는관리가돼야한다.네번째로지방자치단체및풀뿌리지역단체가기능을분담하고시민과학의참여가이뤄지는관리가돼야한다.마지막으로보상을보편적기본소득의개념에서지원하고,예방은가중책임개념에서집행할수있어야한다.▶경향신문SNS[트위터][페이스북]▶[인기무료만화보기]©경향신문(www.khan.co.kr),무단전재및재배포금지]'"
      ]
     },
     "execution_count": 49,
     "metadata": {},
     "output_type": "execute_result"
    }
   ],
   "source": [
    "text[1]"
   ]
  },
  {
   "cell_type": "markdown",
   "metadata": {},
   "source": [
    "> ### Q.\n",
    "\n",
    "> list를 어떻게 저장하고 어떻게 불러올 수 있을까..."
   ]
  },
  {
   "cell_type": "code",
   "execution_count": 43,
   "metadata": {
    "collapsed": false
   },
   "outputs": [],
   "source": [
    "# 저장\n",
    "f = open(OUTPUT_FILE_NAME, 'w')\n",
    "for t in text:\n",
    "    f.write(t)\n",
    "    f.write('\\n')"
   ]
  },
  {
   "cell_type": "code",
   "execution_count": 44,
   "metadata": {
    "collapsed": false
   },
   "outputs": [],
   "source": [
    "# 불러오기\n",
    "with open(OUTPUT_FILE_NAME, 'r') as f:\n",
    "    load_text = [line for line in f.read().splitlines()]"
   ]
  },
  {
   "cell_type": "code",
   "execution_count": 45,
   "metadata": {
    "collapsed": false
   },
   "outputs": [
    {
     "data": {
      "text/plain": [
       "'[2017서울여의도밤도깨비야시장(ⓒSeoulBamdokkaebiNightMarket)봄비가지고벚꽃이피자밤도깨비야시장이열렸다.7일밤서울여의도한강공원을환하게밝힌밤도깨비야시장은봄꽃의향기와도심의야경을만끽하고싶은시민들로붐볐다.밤도깨비야시장은지난달24일개장했다.오는10월28일까지매주금,토요일마다열린다.모두407팀(푸드트럭142대,핸드메이드265팀)이참가한이번행사는여의도한강공원일대,동대문디자인플라자(DDP)일대,청계천일대,반포한강공원,서울혁신파크등서울시내총5곳에서진행된다.푸드트럭과핸드메이드팀은3~4주에한번씩자리를바꿔가며시민들을찾아간다.\\xa0청계천일대는시즌마켓으로5월19~21일,8월18~20일,9월15~17일,10월13~15일운영한다.서울도심의행사장5곳중여의도한강공원밤도깨비야시장은아름다운한강의야경과봄꽃축제를함께즐길수있는핫플레이스다.푸드트럭42대,핸드메이드셀러50팀이참가해세계각국의먹거리와특별한핸드메이드상품을선보이고있다.전국에있는푸드트럭은한강공원을따라늘어서다채로운음식들을요리하고있었다.눈으로한번,입으로한번즐기는푸드트럭을통해새콤달콤한패션후르츠요거트부터치즈토핑과함께하는닭발까지다채로운음식을만날수있었다.디저트부터저녁식사,음료와안주까지모든것이준비돼있다.푸드트럭맞은편에는다양한분야의핸드메이드작가들이각종수공예품을선보이는폴리마켓이열렸다.반짝이는아이디어와솜씨로만들어진작품을통해세상에서하나뿐인나만을위한작품을손에넣을수도있다.석양이지고밤이되면시원한강바람과야경을배경으로버스킹공연과전세계전통공연등각종퍼포먼스를즐길수있다.밤도깨비야시장관계자는\"지난주말기온이떨어져손님이적었지만이번주금요일부터기온이풀리고봄꽃축제도개막해많은손님들이찾아올것같다\"고기대했다.◇여의도한강공원밤도깨비야시장의‘꿀팁’Q&amp;AQ.푸드트럭에서카드안되나요?A.\\xa0현금도,카드도자유롭게거래가가능합니다.하지만아직카드시스템이정착중이어서일부푸드트럭에선카드거래가안되는곳도존재합니다.2017서울여의도밤도깨비야시장(ⓒSeoulBamdokkaebiNightMarket)Q.먹거리말고다른즐길거리가있나요?A.다양한분야의핸드메이드작가들이만든각종수공예품을만날수있습니다.또매일밤선보이는버스킹공연,게릴라퍼포먼스등다양한볼거리를즐길수있습니다.국회의사당방면으로걸어가면여의도에서주관하는봄꽃축제에참여할수있습니다.\\xa0Q.주차장은?A.안타깝게도행사주관사에서따로운영하는주차장은없습니다.여의도공원내주차시설이있지만차가많이막히고사람이몰리는주말에는대중교통을추천합니다.Q.줄을정말로많이서나요?A.개장전부터손님들이줄을서고있는푸드트럭도있습니다.하지만음식은오후6시정각부터팔기때문에푸드트럭으로너무일찍갈필요는없습니다.개장후30분정도만지나도잔디밭을가로지르는줄들을볼수있습니다.Q.와이파이되나요?A.주관사에서와이파이시설을증설을하지않았습니다.야시장에서는스마트폰화면보다는사랑하는사람과보고듣고맛있는음식을먹고걸어보세요.Q.가격은어느정도인가요?A.2000원에서1만원까지다양합니다.보통식당과비교해싸다고는할수없지만무조건바가지라고할정도는아닌것같습니다.Q.화장실!화장실은어떻게?A.화장실은여의도공원에설치된기존화장실이전부입니다.야시장을찾기전에급한‘볼일’을해결하는것을추천합니다.글·사진·영상=최민우인턴기자cmwoo11@kmib.co.kr[국민일보홈페이지][페이스북][트위터][취재대행소왱!(클릭)]GoodNewspaperⓒ국민일보(www.kmib.co.kr),무단전재및재배포금지]'"
      ]
     },
     "execution_count": 45,
     "metadata": {},
     "output_type": "execute_result"
    }
   ],
   "source": [
    "load_text[0]"
   ]
  },
  {
   "cell_type": "markdown",
   "metadata": {},
   "source": [
    "> ### Q.\n",
    "> 어떻게 하면 좀 더 깔끔하게 저장하고 불러올 수 있을까. 지금은 '[{내용}'] 과 같은 형태로 되어 있음\n",
    "\n",
    "> #### &\n",
    "> 다른 기사를 TXT에 추가해보기"
   ]
  },
  {
   "cell_type": "code",
   "execution_count": 54,
   "metadata": {
    "collapsed": true
   },
   "outputs": [],
   "source": [
    "URL = 'http://news.naver.com/main/list.nhn?sid2=230&sid1=105&mid=shm&mode=LS2D&date=20170407&page=1'\n",
    "source_code_from_URL = urllib.request.urlopen(URL)\n",
    "soup = BeautifulSoup(source_code_from_URL, 'lxml', from_encoding='utf-8')\n",
    "\n",
    "text = []\n",
    "\n",
    "for item in soup.findAll('dt', {'class':'photo'}):\n",
    "    s = BeautifulSoup(urllib.request.urlopen(item.find('a').get('href')), 'lxml', from_encoding='utf-8')\n",
    "    \n",
    "    #for i in s.find_all('div', id='articleBodyContents'):\n",
    "    #    text = str(i.find_all(text=True))\n",
    "    \n",
    "    t = s.find_all('div', id='articleBodyContents')\n",
    "    t = re.sub(\"<!--.*?-->\", \"\", str(t)) #주석 지우기\n",
    "    t = re.sub(\"<script.*?>.*?</script>\", \"\", str(t)) #스크립트 지우기\n",
    "    t = re.sub(\"<.+?>\", \"\", str(t)) #태그 지우기\n",
    "    t = re.sub(\"&nbsp;| |\\t|\\r|\\n\", \"\", str(t)) #공백 \\r\\n 지우기\n",
    "    t = t.replace(\"//flash오류를우회하기위한함수추가function_flash_removeCallback(){}\", \"\")\n",
    "\n",
    "    text.append(t)"
   ]
  },
  {
   "cell_type": "code",
   "execution_count": 57,
   "metadata": {
    "collapsed": true
   },
   "outputs": [],
   "source": [
    "# 저장\n",
    "# 이번엔 추가할 것이기 때문에 옵션을 a 로 준다.\n",
    "f = open(OUTPUT_FILE_NAME, 'a')\n",
    "for t in text:\n",
    "    f.write(t)\n",
    "    f.write('\\n')"
   ]
  },
  {
   "cell_type": "code",
   "execution_count": 58,
   "metadata": {
    "collapsed": true
   },
   "outputs": [],
   "source": [
    "# 불러오기\n",
    "with open(OUTPUT_FILE_NAME, 'r') as f:\n",
    "    load_text = [line for line in f.read().splitlines()]"
   ]
  },
  {
   "cell_type": "code",
   "execution_count": 64,
   "metadata": {
    "collapsed": false
   },
   "outputs": [
    {
     "data": {
      "text/plain": [
       "'[2017서울여의도밤도깨비야시장(ⓒSeoulBamdokkaebiNightMarket)봄비가지고벚꽃이피자밤도깨비야시장이열렸다.7일밤서울여의도한강공원을환하게밝힌밤도깨비야시장은봄꽃의향기와도심의야경을만끽하고싶은시민들로붐볐다.밤도깨비야시장은지난달24일개장했다.오는10월28일까지매주금,토요일마다열린다.모두407팀(푸드트럭142대,핸드메이드265팀)이참가한이번행사는여의도한강공원일대,동대문디자인플라자(DDP)일대,청계천일대,반포한강공원,서울혁신파크등서울시내총5곳에서진행된다.푸드트럭과핸드메이드팀은3~4주에한번씩자리를바꿔가며시민들을찾아간다.\\xa0청계천일대는시즌마켓으로5월19~21일,8월18~20일,9월15~17일,10월13~15일운영한다.서울도심의행사장5곳중여의도한강공원밤도깨비야시장은아름다운한강의야경과봄꽃축제를함께즐길수있는핫플레이스다.푸드트럭42대,핸드메이드셀러50팀이참가해세계각국의먹거리와특별한핸드메이드상품을선보이고있다.전국에있는푸드트럭은한강공원을따라늘어서다채로운음식들을요리하고있었다.눈으로한번,입으로한번즐기는푸드트럭을통해새콤달콤한패션후르츠요거트부터치즈토핑과함께하는닭발까지다채로운음식을만날수있었다.디저트부터저녁식사,음료와안주까지모든것이준비돼있다.푸드트럭맞은편에는다양한분야의핸드메이드작가들이각종수공예품을선보이는폴리마켓이열렸다.반짝이는아이디어와솜씨로만들어진작품을통해세상에서하나뿐인나만을위한작품을손에넣을수도있다.석양이지고밤이되면시원한강바람과야경을배경으로버스킹공연과전세계전통공연등각종퍼포먼스를즐길수있다.밤도깨비야시장관계자는\"지난주말기온이떨어져손님이적었지만이번주금요일부터기온이풀리고봄꽃축제도개막해많은손님들이찾아올것같다\"고기대했다.◇여의도한강공원밤도깨비야시장의‘꿀팁’Q&amp;AQ.푸드트럭에서카드안되나요?A.\\xa0현금도,카드도자유롭게거래가가능합니다.하지만아직카드시스템이정착중이어서일부푸드트럭에선카드거래가안되는곳도존재합니다.2017서울여의도밤도깨비야시장(ⓒSeoulBamdokkaebiNightMarket)Q.먹거리말고다른즐길거리가있나요?A.다양한분야의핸드메이드작가들이만든각종수공예품을만날수있습니다.또매일밤선보이는버스킹공연,게릴라퍼포먼스등다양한볼거리를즐길수있습니다.국회의사당방면으로걸어가면여의도에서주관하는봄꽃축제에참여할수있습니다.\\xa0Q.주차장은?A.안타깝게도행사주관사에서따로운영하는주차장은없습니다.여의도공원내주차시설이있지만차가많이막히고사람이몰리는주말에는대중교통을추천합니다.Q.줄을정말로많이서나요?A.개장전부터손님들이줄을서고있는푸드트럭도있습니다.하지만음식은오후6시정각부터팔기때문에푸드트럭으로너무일찍갈필요는없습니다.개장후30분정도만지나도잔디밭을가로지르는줄들을볼수있습니다.Q.와이파이되나요?A.주관사에서와이파이시설을증설을하지않았습니다.야시장에서는스마트폰화면보다는사랑하는사람과보고듣고맛있는음식을먹고걸어보세요.Q.가격은어느정도인가요?A.2000원에서1만원까지다양합니다.보통식당과비교해싸다고는할수없지만무조건바가지라고할정도는아닌것같습니다.Q.화장실!화장실은어떻게?A.화장실은여의도공원에설치된기존화장실이전부입니다.야시장을찾기전에급한‘볼일’을해결하는것을추천합니다.글·사진·영상=최민우인턴기자cmwoo11@kmib.co.kr[국민일보홈페이지][페이스북][트위터][취재대행소왱!(클릭)]GoodNewspaperⓒ국민일보(www.kmib.co.kr),무단전재및재배포금지]'"
      ]
     },
     "execution_count": 64,
     "metadata": {},
     "output_type": "execute_result"
    }
   ],
   "source": [
    "load_text[0]"
   ]
  },
  {
   "cell_type": "code",
   "execution_count": 66,
   "metadata": {
    "collapsed": false
   },
   "outputs": [
    {
     "data": {
      "text/plain": [
       "'[【서울=뉴시스】오동현기자=최성준방송통신위원장이3년간의임기를마치며차기위원회에지능정보사회를준비하는제도정비를당부했다.최위원장은7일정부과천청사에서열린퇴임식을통해\"지난3년간되돌아보면ICT기술발달과4차산업혁명대두에따라급변하고있는방송통신에대비한제도마련및입법준비가아직본궤도에오르지못한점이아쉽다\"고밝혔다.또한\"방송콘텐츠제작에사용될충분한재원을확보하는방안마련이미진한점,개인정보를철저히보호하면서도그활용이원활히되도록지능정보사회를준비하는데필요한제도정비가불충분한점이아쉬움으로남는다\"고전했다.그러면서\"4기방통위가앞으로이에대한집중적인검토와의미있는정책마련을위해노력해주시기를당부드린다\"며\"방통위3기의성과들은나날이발전하는새로운환경과여건에맞춰4기에서다시개선하고보완돼나갈것\"이라고강조했다.최위원장은\"국민들이방통위3기를어떻게평가해주실지걱정이된다\"면서도\"지난3년간위원장으로서새로운방송통신제도를도입하고기존제도를개선하며국민들에게보다나은혜택을드리는데기여했다는점에서매우의미있는시간이었다\"고말했다.그는\"3년전취임사에서법과원칙의준수,대화와소통,당사자의권리가충분히보장되는합리적인절차등3가지를강조했다\"며\"그동안많은부분이실행돼왔다고생각되지만,계속염두에두어주면좋겠다\"고전했다.그는끝으로\"36년가까이바쁘게지내면서놓치고지나간일들,계획했지만실행하지못한일들을찾아서챙겨볼계획이다.행정부와사법부에서일한경험을토대로우리사회를위해기여할수있는일이무엇인지도고민해볼생각\"이라며지난3년간의무거웠던짐을내려놨다.odong85@newsis.com뉴시스뉴스,네이버뉴스스탠드에서도만나세요뉴시스SNS[페이스북][트위터]]'"
      ]
     },
     "execution_count": 66,
     "metadata": {},
     "output_type": "execute_result"
    }
   ],
   "source": [
    "load_text[-1]"
   ]
  },
  {
   "cell_type": "code",
   "execution_count": null,
   "metadata": {
    "collapsed": true
   },
   "outputs": [],
   "source": []
  }
 ],
 "metadata": {
  "kernelspec": {
   "display_name": "Python 3",
   "language": "python",
   "name": "python3"
  },
  "language_info": {
   "codemirror_mode": {
    "name": "ipython",
    "version": 3
   },
   "file_extension": ".py",
   "mimetype": "text/x-python",
   "name": "python",
   "nbconvert_exporter": "python",
   "pygments_lexer": "ipython3",
   "version": "3.5.2"
  }
 },
 "nbformat": 4,
 "nbformat_minor": 2
}
